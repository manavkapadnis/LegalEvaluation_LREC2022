{
  "nbformat": 4,
  "nbformat_minor": 0,
  "metadata": {
    "colab": {
      "name": "abstractive summarization.ipynb",
      "provenance": [],
      "collapsed_sections": []
    },
    "kernelspec": {
      "name": "python3",
      "display_name": "Python 3"
    }
  },
  "cells": [
    {
      "cell_type": "code",
      "metadata": {
        "id": "ZOZAAlhpcVYr"
      },
      "source": [
        "import pandas as pd\n",
        "import numpy as np"
      ],
      "execution_count": null,
      "outputs": []
    },
    {
      "cell_type": "code",
      "metadata": {
        "id": "qD3RQZl1cZkK"
      },
      "source": [
        "a=[]\n",
        "with open('data.csv','r',errors='ignore') as f:\n",
        "  for line in f:\n",
        "    ##print(line)\n",
        "    a.append(line)"
      ],
      "execution_count": null,
      "outputs": []
    },
    {
      "cell_type": "code",
      "metadata": {
        "colab": {
          "base_uri": "https://localhost:8080/"
        },
        "id": "dYDzsHgbcyj3",
        "outputId": "e421be78-b6c3-44d2-a1a6-05734a418f8c"
      },
      "source": [
        "df=pd.DataFrame(a,columns=['Text'])\n",
        "df"
      ],
      "execution_count": null,
      "outputs": [
        {
          "output_type": "execute_result",
          "data": {
            "text/html": [
              "<div>\n",
              "<style scoped>\n",
              "    .dataframe tbody tr th:only-of-type {\n",
              "        vertical-align: middle;\n",
              "    }\n",
              "\n",
              "    .dataframe tbody tr th {\n",
              "        vertical-align: top;\n",
              "    }\n",
              "\n",
              "    .dataframe thead th {\n",
              "        text-align: right;\n",
              "    }\n",
              "</style>\n",
              "<table border=\"1\" class=\"dataframe\">\n",
              "  <thead>\n",
              "    <tr style=\"text-align: right;\">\n",
              "      <th></th>\n",
              "      <th>Text</th>\n",
              "    </tr>\n",
              "  </thead>\n",
              "  <tbody>\n",
              "    <tr>\n",
              "      <th>0</th>\n",
              "      <td>['for educational use only'],\"['Suresh S/O Sadhuji Ghogre (In ... vs The State Of Maharashtra', ' Thr. ... on 11 January', ' 2019']\",[],['Bombay High Court'],\"['Suresh S/O Sadhuji Ghogre (In ... v...</td>\n",
              "    </tr>\n",
              "    <tr>\n",
              "      <th>1</th>\n",
              "      <td>['for educational use only'],\"['Vishwanath Jaynath Yadav @ Motha ... vs The State Of Maharashtra on 2 December', ' 2019']\",[],['Bombay High Court'],\"['Vishwanath Jaynath Yadav @ Motha ... vs The S...</td>\n",
              "    </tr>\n",
              "    <tr>\n",
              "      <th>2</th>\n",
              "      <td>['for educational use only'],\"['Chaitu S/O. Madi Atram (In Jail) vs State Of Maharashtra Thr. Its ... on 19 July', ' 2019']\",[],['Bombay High Court'],\"['Chaitu S/O. Madi Atram (In Jail) vs State O...</td>\n",
              "    </tr>\n",
              "    <tr>\n",
              "      <th>3</th>\n",
              "      <td>['for educational use only'],\"['Santosh Sampat Jagtap And Anr vs The State Of Maharashtra on 6 August', ' 2019']\",[],['Bombay High Court'],\"['Santosh Sampat Jagtap And Anr vs The State Of Maharash...</td>\n",
              "    </tr>\n",
              "    <tr>\n",
              "      <th>4</th>\n",
              "      <td>['for educational use only'],\"['Mathur @ Mathura Mondal vs The State Of West Bengal on 3 July', ' 2019']\",[],['Calcutta High Court (Appellete Side)'],\"['Mathur @ Mathura Mondal vs The State Of Wes...</td>\n",
              "    </tr>\n",
              "    <tr>\n",
              "      <th>...</th>\n",
              "      <td>...</td>\n",
              "    </tr>\n",
              "    <tr>\n",
              "      <th>59</th>\n",
              "      <td>['for educational use only'],\"['Kanwar Pal Singh vs State Of U.P. And Anr on 22 July', ' 2019']\",[],['Allahabad High Court'],\"['Kanwar Pal Singh vs State Of U.P. And Anr on 22 July', ' 2019']\",['B...</td>\n",
              "    </tr>\n",
              "    <tr>\n",
              "      <th>60</th>\n",
              "      <td>['for educational use only'],\"['Adhikrao Bapu Hazare vs The State Of Maharashtra on 25 September', ' 2019']\",[],['Bombay High Court'],\"['Adhikrao Bapu Hazare vs The State Of Maharashtra on 25 Sept...</td>\n",
              "    </tr>\n",
              "    <tr>\n",
              "      <th>61</th>\n",
              "      <td>['for educational use only'],\"['Sameer Subhash Vhora vs The State Of Maharashtra on 21 June', ' 2019']\",[],['Bombay High Court'],\"['Sameer Subhash Vhora vs The State Of Maharashtra on 21 June', ' ...</td>\n",
              "    </tr>\n",
              "    <tr>\n",
              "      <th>62</th>\n",
              "      <td>['for educational use only'],\"['P.Rajendran vs The Principal Secretary on 1 July', ' 2019']\",[],['Madras High Court'],\"['P.Rajendran vs The Principal Secretary on 1 July', ' 2019']\",['1'],['BEFORE...</td>\n",
              "    </tr>\n",
              "    <tr>\n",
              "      <th>63</th>\n",
              "      <td>['for educational use only'],\"['A.Balasubramanian vs State Through on 28 January', ' 2019']\",[],['Madras High Court'],\"['A.Balasubramanian vs State Through on 28 January', ' 2019']\",['1'],['BEFORE...</td>\n",
              "    </tr>\n",
              "  </tbody>\n",
              "</table>\n",
              "<p>64 rows × 1 columns</p>\n",
              "</div>"
            ],
            "text/plain": [
              "                                                                                                                                                                                                       Text\n",
              "0   ['for educational use only'],\"['Suresh S/O Sadhuji Ghogre (In ... vs The State Of Maharashtra', ' Thr. ... on 11 January', ' 2019']\",[],['Bombay High Court'],\"['Suresh S/O Sadhuji Ghogre (In ... v...\n",
              "1   ['for educational use only'],\"['Vishwanath Jaynath Yadav @ Motha ... vs The State Of Maharashtra on 2 December', ' 2019']\",[],['Bombay High Court'],\"['Vishwanath Jaynath Yadav @ Motha ... vs The S...\n",
              "2   ['for educational use only'],\"['Chaitu S/O. Madi Atram (In Jail) vs State Of Maharashtra Thr. Its ... on 19 July', ' 2019']\",[],['Bombay High Court'],\"['Chaitu S/O. Madi Atram (In Jail) vs State O...\n",
              "3   ['for educational use only'],\"['Santosh Sampat Jagtap And Anr vs The State Of Maharashtra on 6 August', ' 2019']\",[],['Bombay High Court'],\"['Santosh Sampat Jagtap And Anr vs The State Of Maharash...\n",
              "4   ['for educational use only'],\"['Mathur @ Mathura Mondal vs The State Of West Bengal on 3 July', ' 2019']\",[],['Calcutta High Court (Appellete Side)'],\"['Mathur @ Mathura Mondal vs The State Of Wes...\n",
              "..                                                                                                                                                                                                      ...\n",
              "59  ['for educational use only'],\"['Kanwar Pal Singh vs State Of U.P. And Anr on 22 July', ' 2019']\",[],['Allahabad High Court'],\"['Kanwar Pal Singh vs State Of U.P. And Anr on 22 July', ' 2019']\",['B...\n",
              "60  ['for educational use only'],\"['Adhikrao Bapu Hazare vs The State Of Maharashtra on 25 September', ' 2019']\",[],['Bombay High Court'],\"['Adhikrao Bapu Hazare vs The State Of Maharashtra on 25 Sept...\n",
              "61  ['for educational use only'],\"['Sameer Subhash Vhora vs The State Of Maharashtra on 21 June', ' 2019']\",[],['Bombay High Court'],\"['Sameer Subhash Vhora vs The State Of Maharashtra on 21 June', ' ...\n",
              "62  ['for educational use only'],\"['P.Rajendran vs The Principal Secretary on 1 July', ' 2019']\",[],['Madras High Court'],\"['P.Rajendran vs The Principal Secretary on 1 July', ' 2019']\",['1'],['BEFORE...\n",
              "63  ['for educational use only'],\"['A.Balasubramanian vs State Through on 28 January', ' 2019']\",[],['Madras High Court'],\"['A.Balasubramanian vs State Through on 28 January', ' 2019']\",['1'],['BEFORE...\n",
              "\n",
              "[64 rows x 1 columns]"
            ]
          },
          "metadata": {
            "tags": []
          },
          "execution_count": 137
        }
      ]
    },
    {
      "cell_type": "code",
      "metadata": {
        "id": "3OMbHtg-c0r6"
      },
      "source": [
        "b=[]\n",
        "with open('data1.csv','r',errors='ignore') as f:\n",
        "  for line in f:\n",
        "    ##print(line)\n",
        "    b.append(line)"
      ],
      "execution_count": null,
      "outputs": []
    },
    {
      "cell_type": "code",
      "metadata": {
        "colab": {
          "base_uri": "https://localhost:8080/"
        },
        "id": "LraiiyRVc50u",
        "outputId": "eeb9cb38-510a-42cb-fbda-5829ef0ac36d"
      },
      "source": [
        "df1=pd.DataFrame(b)\n",
        "df1"
      ],
      "execution_count": null,
      "outputs": [
        {
          "output_type": "execute_result",
          "data": {
            "text/html": [
              "<div>\n",
              "<style scoped>\n",
              "    .dataframe tbody tr th:only-of-type {\n",
              "        vertical-align: middle;\n",
              "    }\n",
              "\n",
              "    .dataframe tbody tr th {\n",
              "        vertical-align: top;\n",
              "    }\n",
              "\n",
              "    .dataframe thead th {\n",
              "        text-align: right;\n",
              "    }\n",
              "</style>\n",
              "<table border=\"1\" class=\"dataframe\">\n",
              "  <thead>\n",
              "    <tr style=\"text-align: right;\">\n",
              "      <th></th>\n",
              "      <th>0</th>\n",
              "    </tr>\n",
              "  </thead>\n",
              "  <tbody>\n",
              "    <tr>\n",
              "      <th>0</th>\n",
              "      <td>\"['\\\\-- Versus -- Respondent ', 'State Maharashtra, Police Station Officer, Police Station Kotwali, Nagpur, Advocate appellant sole accused convicted committing murder one Shailesh Balkrishna appe...</td>\n",
              "    </tr>\n",
              "    <tr>\n",
              "      <th>1</th>\n",
              "      <td>['State Maharashtra ...Respondent \\\\---Dr. Yug Mohit Chaudhary Appellant Appeal 5/13 J-APEAL-656-358-15.doc Doctor also stated injury No.11 12 possible muddemal object No.2 facts present accused p...</td>\n",
              "    </tr>\n",
              "    <tr>\n",
              "      <th>2</th>\n",
              "      <td>\"['...APPE Versus State Maharashtra, P.S.O., \\\\---------------------------------------------------------------------------------------------Ms. S.D.Wankhede, Advocate appeal conviction appellant m...</td>\n",
              "    </tr>\n",
              "    <tr>\n",
              "      <th>3</th>\n",
              "      <td>\"['Applicants ] ... Respondent Versus State Maharashtra Mr. Sudeep Pasbola a/w Mr. Karl Rustomkhan i/b Mr. Prajyot Shrivastav, Advocate year ']\",\"['S.H.Yadav, APP State/Respondent.Mr. Sanjeev Kada...</td>\n",
              "    </tr>\n",
              "    <tr>\n",
              "      <th>4</th>\n",
              "      <td>\"['689 2009 Mathur @ Mathura Mondal Versus State West Bengal appellant ', 'Mr. Soubhik Mitter Mr. A. Sinha Ms. 2005', 'SC Case alleged 04.12.2004 1.00 a.m. hearing ']\",\"[\"\"Mumtaz Khan Hon'ble Just...</td>\n",
              "    </tr>\n",
              "    <tr>\n",
              "      <th>...</th>\n",
              "      <td>...</td>\n",
              "    </tr>\n",
              "    <tr>\n",
              "      <th>59</th>\n",
              "      <td>\"['- 69 Case ', '- APPLICATION U/S 482 filed prayer quash instant criminal prosecution applicant Criminal Case District Mirzapur, ']\",\"['Anr Counsel Applicant ', '- Ramesh Kumar Saxena,Vishnu Prat...</td>\n",
              "    </tr>\n",
              "    <tr>\n",
              "      <th>60</th>\n",
              "      <td>['Applicant Versus State Maharashtra .. Respondent ... Mr. Kunal N. '],\"[\"\"Mr. L. N. Karde Applicant.Ms. P. N. Dabholkar APP counsel applicant specifcally submitted convincing evidence establishin...</td>\n",
              "    </tr>\n",
              "    <tr>\n",
              "      <th>61</th>\n",
              "      <td>\"['Applicant versus State Maharashtra .... Respondent ....... period 18/02/2013 19/09/2014, present Applicant filed FIR first informant Kupwad Police Station, Miraj, Sangli, sections 406 408 IPC.T...</td>\n",
              "    </tr>\n",
              "    <tr>\n",
              "      <th>62</th>\n",
              "      <td>['(MD) No.11065 2019 P.Rajendran ... Petitioner vs. 1.The Principal Secretary Transport Department Government Tamil '],\"['2\\\\.The writ petitioner employee respondent / Transport Corporation served...</td>\n",
              "    </tr>\n",
              "    <tr>\n",
              "      <th>63</th>\n",
              "      <td>\"['Appellant ', 'Mr.N.Ananthapadmanabhan Respondent ', 'Mr.M.Chandrasekaran Additional Public Prosecutor Appellant ', 'Mr.M.Chandrasekaran Additional Public Prosecutor Respondent ', 'Mr.T.Senthil ...</td>\n",
              "    </tr>\n",
              "  </tbody>\n",
              "</table>\n",
              "<p>64 rows × 1 columns</p>\n",
              "</div>"
            ],
            "text/plain": [
              "                                                                                                                                                                                                          0\n",
              "0   \"['\\\\-- Versus -- Respondent ', 'State Maharashtra, Police Station Officer, Police Station Kotwali, Nagpur, Advocate appellant sole accused convicted committing murder one Shailesh Balkrishna appe...\n",
              "1   ['State Maharashtra ...Respondent \\\\---Dr. Yug Mohit Chaudhary Appellant Appeal 5/13 J-APEAL-656-358-15.doc Doctor also stated injury No.11 12 possible muddemal object No.2 facts present accused p...\n",
              "2   \"['...APPE Versus State Maharashtra, P.S.O., \\\\---------------------------------------------------------------------------------------------Ms. S.D.Wankhede, Advocate appeal conviction appellant m...\n",
              "3   \"['Applicants ] ... Respondent Versus State Maharashtra Mr. Sudeep Pasbola a/w Mr. Karl Rustomkhan i/b Mr. Prajyot Shrivastav, Advocate year ']\",\"['S.H.Yadav, APP State/Respondent.Mr. Sanjeev Kada...\n",
              "4   \"['689 2009 Mathur @ Mathura Mondal Versus State West Bengal appellant ', 'Mr. Soubhik Mitter Mr. A. Sinha Ms. 2005', 'SC Case alleged 04.12.2004 1.00 a.m. hearing ']\",\"[\"\"Mumtaz Khan Hon'ble Just...\n",
              "..                                                                                                                                                                                                      ...\n",
              "59  \"['- 69 Case ', '- APPLICATION U/S 482 filed prayer quash instant criminal prosecution applicant Criminal Case District Mirzapur, ']\",\"['Anr Counsel Applicant ', '- Ramesh Kumar Saxena,Vishnu Prat...\n",
              "60  ['Applicant Versus State Maharashtra .. Respondent ... Mr. Kunal N. '],\"[\"\"Mr. L. N. Karde Applicant.Ms. P. N. Dabholkar APP counsel applicant specifcally submitted convincing evidence establishin...\n",
              "61  \"['Applicant versus State Maharashtra .... Respondent ....... period 18/02/2013 19/09/2014, present Applicant filed FIR first informant Kupwad Police Station, Miraj, Sangli, sections 406 408 IPC.T...\n",
              "62  ['(MD) No.11065 2019 P.Rajendran ... Petitioner vs. 1.The Principal Secretary Transport Department Government Tamil '],\"['2\\\\.The writ petitioner employee respondent / Transport Corporation served...\n",
              "63  \"['Appellant ', 'Mr.N.Ananthapadmanabhan Respondent ', 'Mr.M.Chandrasekaran Additional Public Prosecutor Appellant ', 'Mr.M.Chandrasekaran Additional Public Prosecutor Respondent ', 'Mr.T.Senthil ...\n",
              "\n",
              "[64 rows x 1 columns]"
            ]
          },
          "metadata": {
            "tags": []
          },
          "execution_count": 139
        }
      ]
    },
    {
      "cell_type": "code",
      "metadata": {
        "colab": {
          "base_uri": "https://localhost:8080/"
        },
        "id": "4erdiQouc8TP",
        "outputId": "145c1868-220b-4c13-a933-d5f2a49bd58f"
      },
      "source": [
        "df['Summary']=df1\n",
        "df"
      ],
      "execution_count": null,
      "outputs": [
        {
          "output_type": "execute_result",
          "data": {
            "text/html": [
              "<div>\n",
              "<style scoped>\n",
              "    .dataframe tbody tr th:only-of-type {\n",
              "        vertical-align: middle;\n",
              "    }\n",
              "\n",
              "    .dataframe tbody tr th {\n",
              "        vertical-align: top;\n",
              "    }\n",
              "\n",
              "    .dataframe thead th {\n",
              "        text-align: right;\n",
              "    }\n",
              "</style>\n",
              "<table border=\"1\" class=\"dataframe\">\n",
              "  <thead>\n",
              "    <tr style=\"text-align: right;\">\n",
              "      <th></th>\n",
              "      <th>Text</th>\n",
              "      <th>Summary</th>\n",
              "    </tr>\n",
              "  </thead>\n",
              "  <tbody>\n",
              "    <tr>\n",
              "      <th>0</th>\n",
              "      <td>['for educational use only'],\"['Suresh S/O Sadhuji Ghogre (In ... vs The State Of Maharashtra', ' Thr. ... on 11 January', ' 2019']\",[],['Bombay High Court'],\"['Suresh S/O Sadhuji Ghogre (In ... v...</td>\n",
              "      <td>\"['\\\\-- Versus -- Respondent ', 'State Maharashtra, Police Station Officer, Police Station Kotwali, Nagpur, Advocate appellant sole accused convicted committing murder one Shailesh Balkrishna appe...</td>\n",
              "    </tr>\n",
              "    <tr>\n",
              "      <th>1</th>\n",
              "      <td>['for educational use only'],\"['Vishwanath Jaynath Yadav @ Motha ... vs The State Of Maharashtra on 2 December', ' 2019']\",[],['Bombay High Court'],\"['Vishwanath Jaynath Yadav @ Motha ... vs The S...</td>\n",
              "      <td>['State Maharashtra ...Respondent \\\\---Dr. Yug Mohit Chaudhary Appellant Appeal 5/13 J-APEAL-656-358-15.doc Doctor also stated injury No.11 12 possible muddemal object No.2 facts present accused p...</td>\n",
              "    </tr>\n",
              "    <tr>\n",
              "      <th>2</th>\n",
              "      <td>['for educational use only'],\"['Chaitu S/O. Madi Atram (In Jail) vs State Of Maharashtra Thr. Its ... on 19 July', ' 2019']\",[],['Bombay High Court'],\"['Chaitu S/O. Madi Atram (In Jail) vs State O...</td>\n",
              "      <td>\"['...APPE Versus State Maharashtra, P.S.O., \\\\---------------------------------------------------------------------------------------------Ms. S.D.Wankhede, Advocate appeal conviction appellant m...</td>\n",
              "    </tr>\n",
              "    <tr>\n",
              "      <th>3</th>\n",
              "      <td>['for educational use only'],\"['Santosh Sampat Jagtap And Anr vs The State Of Maharashtra on 6 August', ' 2019']\",[],['Bombay High Court'],\"['Santosh Sampat Jagtap And Anr vs The State Of Maharash...</td>\n",
              "      <td>\"['Applicants ] ... Respondent Versus State Maharashtra Mr. Sudeep Pasbola a/w Mr. Karl Rustomkhan i/b Mr. Prajyot Shrivastav, Advocate year ']\",\"['S.H.Yadav, APP State/Respondent.Mr. Sanjeev Kada...</td>\n",
              "    </tr>\n",
              "    <tr>\n",
              "      <th>4</th>\n",
              "      <td>['for educational use only'],\"['Mathur @ Mathura Mondal vs The State Of West Bengal on 3 July', ' 2019']\",[],['Calcutta High Court (Appellete Side)'],\"['Mathur @ Mathura Mondal vs The State Of Wes...</td>\n",
              "      <td>\"['689 2009 Mathur @ Mathura Mondal Versus State West Bengal appellant ', 'Mr. Soubhik Mitter Mr. A. Sinha Ms. 2005', 'SC Case alleged 04.12.2004 1.00 a.m. hearing ']\",\"[\"\"Mumtaz Khan Hon'ble Just...</td>\n",
              "    </tr>\n",
              "    <tr>\n",
              "      <th>...</th>\n",
              "      <td>...</td>\n",
              "      <td>...</td>\n",
              "    </tr>\n",
              "    <tr>\n",
              "      <th>59</th>\n",
              "      <td>['for educational use only'],\"['Kanwar Pal Singh vs State Of U.P. And Anr on 22 July', ' 2019']\",[],['Allahabad High Court'],\"['Kanwar Pal Singh vs State Of U.P. And Anr on 22 July', ' 2019']\",['B...</td>\n",
              "      <td>\"['- 69 Case ', '- APPLICATION U/S 482 filed prayer quash instant criminal prosecution applicant Criminal Case District Mirzapur, ']\",\"['Anr Counsel Applicant ', '- Ramesh Kumar Saxena,Vishnu Prat...</td>\n",
              "    </tr>\n",
              "    <tr>\n",
              "      <th>60</th>\n",
              "      <td>['for educational use only'],\"['Adhikrao Bapu Hazare vs The State Of Maharashtra on 25 September', ' 2019']\",[],['Bombay High Court'],\"['Adhikrao Bapu Hazare vs The State Of Maharashtra on 25 Sept...</td>\n",
              "      <td>['Applicant Versus State Maharashtra .. Respondent ... Mr. Kunal N. '],\"[\"\"Mr. L. N. Karde Applicant.Ms. P. N. Dabholkar APP counsel applicant specifcally submitted convincing evidence establishin...</td>\n",
              "    </tr>\n",
              "    <tr>\n",
              "      <th>61</th>\n",
              "      <td>['for educational use only'],\"['Sameer Subhash Vhora vs The State Of Maharashtra on 21 June', ' 2019']\",[],['Bombay High Court'],\"['Sameer Subhash Vhora vs The State Of Maharashtra on 21 June', ' ...</td>\n",
              "      <td>\"['Applicant versus State Maharashtra .... Respondent ....... period 18/02/2013 19/09/2014, present Applicant filed FIR first informant Kupwad Police Station, Miraj, Sangli, sections 406 408 IPC.T...</td>\n",
              "    </tr>\n",
              "    <tr>\n",
              "      <th>62</th>\n",
              "      <td>['for educational use only'],\"['P.Rajendran vs The Principal Secretary on 1 July', ' 2019']\",[],['Madras High Court'],\"['P.Rajendran vs The Principal Secretary on 1 July', ' 2019']\",['1'],['BEFORE...</td>\n",
              "      <td>['(MD) No.11065 2019 P.Rajendran ... Petitioner vs. 1.The Principal Secretary Transport Department Government Tamil '],\"['2\\\\.The writ petitioner employee respondent / Transport Corporation served...</td>\n",
              "    </tr>\n",
              "    <tr>\n",
              "      <th>63</th>\n",
              "      <td>['for educational use only'],\"['A.Balasubramanian vs State Through on 28 January', ' 2019']\",[],['Madras High Court'],\"['A.Balasubramanian vs State Through on 28 January', ' 2019']\",['1'],['BEFORE...</td>\n",
              "      <td>\"['Appellant ', 'Mr.N.Ananthapadmanabhan Respondent ', 'Mr.M.Chandrasekaran Additional Public Prosecutor Appellant ', 'Mr.M.Chandrasekaran Additional Public Prosecutor Respondent ', 'Mr.T.Senthil ...</td>\n",
              "    </tr>\n",
              "  </tbody>\n",
              "</table>\n",
              "<p>64 rows × 2 columns</p>\n",
              "</div>"
            ],
            "text/plain": [
              "                                                                                                                                                                                                       Text                                                                                                                                                                                                  Summary\n",
              "0   ['for educational use only'],\"['Suresh S/O Sadhuji Ghogre (In ... vs The State Of Maharashtra', ' Thr. ... on 11 January', ' 2019']\",[],['Bombay High Court'],\"['Suresh S/O Sadhuji Ghogre (In ... v...  \"['\\\\-- Versus -- Respondent ', 'State Maharashtra, Police Station Officer, Police Station Kotwali, Nagpur, Advocate appellant sole accused convicted committing murder one Shailesh Balkrishna appe...\n",
              "1   ['for educational use only'],\"['Vishwanath Jaynath Yadav @ Motha ... vs The State Of Maharashtra on 2 December', ' 2019']\",[],['Bombay High Court'],\"['Vishwanath Jaynath Yadav @ Motha ... vs The S...  ['State Maharashtra ...Respondent \\\\---Dr. Yug Mohit Chaudhary Appellant Appeal 5/13 J-APEAL-656-358-15.doc Doctor also stated injury No.11 12 possible muddemal object No.2 facts present accused p...\n",
              "2   ['for educational use only'],\"['Chaitu S/O. Madi Atram (In Jail) vs State Of Maharashtra Thr. Its ... on 19 July', ' 2019']\",[],['Bombay High Court'],\"['Chaitu S/O. Madi Atram (In Jail) vs State O...  \"['...APPE Versus State Maharashtra, P.S.O., \\\\---------------------------------------------------------------------------------------------Ms. S.D.Wankhede, Advocate appeal conviction appellant m...\n",
              "3   ['for educational use only'],\"['Santosh Sampat Jagtap And Anr vs The State Of Maharashtra on 6 August', ' 2019']\",[],['Bombay High Court'],\"['Santosh Sampat Jagtap And Anr vs The State Of Maharash...  \"['Applicants ] ... Respondent Versus State Maharashtra Mr. Sudeep Pasbola a/w Mr. Karl Rustomkhan i/b Mr. Prajyot Shrivastav, Advocate year ']\",\"['S.H.Yadav, APP State/Respondent.Mr. Sanjeev Kada...\n",
              "4   ['for educational use only'],\"['Mathur @ Mathura Mondal vs The State Of West Bengal on 3 July', ' 2019']\",[],['Calcutta High Court (Appellete Side)'],\"['Mathur @ Mathura Mondal vs The State Of Wes...  \"['689 2009 Mathur @ Mathura Mondal Versus State West Bengal appellant ', 'Mr. Soubhik Mitter Mr. A. Sinha Ms. 2005', 'SC Case alleged 04.12.2004 1.00 a.m. hearing ']\",\"[\"\"Mumtaz Khan Hon'ble Just...\n",
              "..                                                                                                                                                                                                      ...                                                                                                                                                                                                      ...\n",
              "59  ['for educational use only'],\"['Kanwar Pal Singh vs State Of U.P. And Anr on 22 July', ' 2019']\",[],['Allahabad High Court'],\"['Kanwar Pal Singh vs State Of U.P. And Anr on 22 July', ' 2019']\",['B...  \"['- 69 Case ', '- APPLICATION U/S 482 filed prayer quash instant criminal prosecution applicant Criminal Case District Mirzapur, ']\",\"['Anr Counsel Applicant ', '- Ramesh Kumar Saxena,Vishnu Prat...\n",
              "60  ['for educational use only'],\"['Adhikrao Bapu Hazare vs The State Of Maharashtra on 25 September', ' 2019']\",[],['Bombay High Court'],\"['Adhikrao Bapu Hazare vs The State Of Maharashtra on 25 Sept...  ['Applicant Versus State Maharashtra .. Respondent ... Mr. Kunal N. '],\"[\"\"Mr. L. N. Karde Applicant.Ms. P. N. Dabholkar APP counsel applicant specifcally submitted convincing evidence establishin...\n",
              "61  ['for educational use only'],\"['Sameer Subhash Vhora vs The State Of Maharashtra on 21 June', ' 2019']\",[],['Bombay High Court'],\"['Sameer Subhash Vhora vs The State Of Maharashtra on 21 June', ' ...  \"['Applicant versus State Maharashtra .... Respondent ....... period 18/02/2013 19/09/2014, present Applicant filed FIR first informant Kupwad Police Station, Miraj, Sangli, sections 406 408 IPC.T...\n",
              "62  ['for educational use only'],\"['P.Rajendran vs The Principal Secretary on 1 July', ' 2019']\",[],['Madras High Court'],\"['P.Rajendran vs The Principal Secretary on 1 July', ' 2019']\",['1'],['BEFORE...  ['(MD) No.11065 2019 P.Rajendran ... Petitioner vs. 1.The Principal Secretary Transport Department Government Tamil '],\"['2\\\\.The writ petitioner employee respondent / Transport Corporation served...\n",
              "63  ['for educational use only'],\"['A.Balasubramanian vs State Through on 28 January', ' 2019']\",[],['Madras High Court'],\"['A.Balasubramanian vs State Through on 28 January', ' 2019']\",['1'],['BEFORE...  \"['Appellant ', 'Mr.N.Ananthapadmanabhan Respondent ', 'Mr.M.Chandrasekaran Additional Public Prosecutor Appellant ', 'Mr.M.Chandrasekaran Additional Public Prosecutor Respondent ', 'Mr.T.Senthil ...\n",
              "\n",
              "[64 rows x 2 columns]"
            ]
          },
          "metadata": {
            "tags": []
          },
          "execution_count": 140
        }
      ]
    },
    {
      "cell_type": "code",
      "metadata": {
        "colab": {
          "base_uri": "https://localhost:8080/",
          "height": 326
        },
        "id": "jSMQfAhYiITO",
        "outputId": "9afe7f5c-2259-4578-b843-44cfba6b8338"
      },
      "source": [
        "df=df.loc[60:65]\n",
        "\n",
        "a=df['Text']\n",
        "b=df['Summary']\n",
        "a=np.array(a)\n",
        "b=np.array(b)\n",
        "df2=pd.DataFrame(a,columns=['Text'])\n",
        "df2['Summary']=b\n",
        "df2"
      ],
      "execution_count": null,
      "outputs": [
        {
          "output_type": "execute_result",
          "data": {
            "text/html": [
              "<div>\n",
              "<style scoped>\n",
              "    .dataframe tbody tr th:only-of-type {\n",
              "        vertical-align: middle;\n",
              "    }\n",
              "\n",
              "    .dataframe tbody tr th {\n",
              "        vertical-align: top;\n",
              "    }\n",
              "\n",
              "    .dataframe thead th {\n",
              "        text-align: right;\n",
              "    }\n",
              "</style>\n",
              "<table border=\"1\" class=\"dataframe\">\n",
              "  <thead>\n",
              "    <tr style=\"text-align: right;\">\n",
              "      <th></th>\n",
              "      <th>Text</th>\n",
              "      <th>Summary</th>\n",
              "    </tr>\n",
              "  </thead>\n",
              "  <tbody>\n",
              "    <tr>\n",
              "      <th>0</th>\n",
              "      <td>['for educational use only'],\"['Adhikrao Bapu Hazare vs The State Of Maharashtra on 25 September', ' 2019']\",[],['Bombay High Court'],\"['Adhikrao Bapu Hazare vs The State Of Maharashtra on 25 Sept...</td>\n",
              "      <td>['Applicant Versus State Maharashtra .. Respondent ... Mr. Kunal N. '],\"[\"\"Mr. L. N. Karde Applicant.Ms. P. N. Dabholkar APP counsel applicant specifcally submitted convincing evidence establishin...</td>\n",
              "    </tr>\n",
              "    <tr>\n",
              "      <th>1</th>\n",
              "      <td>['for educational use only'],\"['Sameer Subhash Vhora vs The State Of Maharashtra on 21 June', ' 2019']\",[],['Bombay High Court'],\"['Sameer Subhash Vhora vs The State Of Maharashtra on 21 June', ' ...</td>\n",
              "      <td>\"['Applicant versus State Maharashtra .... Respondent ....... period 18/02/2013 19/09/2014, present Applicant filed FIR first informant Kupwad Police Station, Miraj, Sangli, sections 406 408 IPC.T...</td>\n",
              "    </tr>\n",
              "    <tr>\n",
              "      <th>2</th>\n",
              "      <td>['for educational use only'],\"['P.Rajendran vs The Principal Secretary on 1 July', ' 2019']\",[],['Madras High Court'],\"['P.Rajendran vs The Principal Secretary on 1 July', ' 2019']\",['1'],['BEFORE...</td>\n",
              "      <td>['(MD) No.11065 2019 P.Rajendran ... Petitioner vs. 1.The Principal Secretary Transport Department Government Tamil '],\"['2\\\\.The writ petitioner employee respondent / Transport Corporation served...</td>\n",
              "    </tr>\n",
              "    <tr>\n",
              "      <th>3</th>\n",
              "      <td>['for educational use only'],\"['A.Balasubramanian vs State Through on 28 January', ' 2019']\",[],['Madras High Court'],\"['A.Balasubramanian vs State Through on 28 January', ' 2019']\",['1'],['BEFORE...</td>\n",
              "      <td>\"['Appellant ', 'Mr.N.Ananthapadmanabhan Respondent ', 'Mr.M.Chandrasekaran Additional Public Prosecutor Appellant ', 'Mr.M.Chandrasekaran Additional Public Prosecutor Respondent ', 'Mr.T.Senthil ...</td>\n",
              "    </tr>\n",
              "  </tbody>\n",
              "</table>\n",
              "</div>"
            ],
            "text/plain": [
              "                                                                                                                                                                                                      Text                                                                                                                                                                                                  Summary\n",
              "0  ['for educational use only'],\"['Adhikrao Bapu Hazare vs The State Of Maharashtra on 25 September', ' 2019']\",[],['Bombay High Court'],\"['Adhikrao Bapu Hazare vs The State Of Maharashtra on 25 Sept...  ['Applicant Versus State Maharashtra .. Respondent ... Mr. Kunal N. '],\"[\"\"Mr. L. N. Karde Applicant.Ms. P. N. Dabholkar APP counsel applicant specifcally submitted convincing evidence establishin...\n",
              "1  ['for educational use only'],\"['Sameer Subhash Vhora vs The State Of Maharashtra on 21 June', ' 2019']\",[],['Bombay High Court'],\"['Sameer Subhash Vhora vs The State Of Maharashtra on 21 June', ' ...  \"['Applicant versus State Maharashtra .... Respondent ....... period 18/02/2013 19/09/2014, present Applicant filed FIR first informant Kupwad Police Station, Miraj, Sangli, sections 406 408 IPC.T...\n",
              "2  ['for educational use only'],\"['P.Rajendran vs The Principal Secretary on 1 July', ' 2019']\",[],['Madras High Court'],\"['P.Rajendran vs The Principal Secretary on 1 July', ' 2019']\",['1'],['BEFORE...  ['(MD) No.11065 2019 P.Rajendran ... Petitioner vs. 1.The Principal Secretary Transport Department Government Tamil '],\"['2\\\\.The writ petitioner employee respondent / Transport Corporation served...\n",
              "3  ['for educational use only'],\"['A.Balasubramanian vs State Through on 28 January', ' 2019']\",[],['Madras High Court'],\"['A.Balasubramanian vs State Through on 28 January', ' 2019']\",['1'],['BEFORE...  \"['Appellant ', 'Mr.N.Ananthapadmanabhan Respondent ', 'Mr.M.Chandrasekaran Additional Public Prosecutor Appellant ', 'Mr.M.Chandrasekaran Additional Public Prosecutor Respondent ', 'Mr.T.Senthil ..."
            ]
          },
          "metadata": {
            "tags": []
          },
          "execution_count": 141
        }
      ]
    },
    {
      "cell_type": "code",
      "metadata": {
        "id": "qTq0RbVEc-gX"
      },
      "source": [
        "import tensorflow as tf\n",
        "import os\n",
        "from tensorflow.python.keras.layers import Layer\n",
        "from tensorflow.python.keras import backend as K\n",
        "\n",
        "\n",
        "class AttentionLayer(Layer):\n",
        "    \"\"\"\n",
        "    This class implements Bahdanau attention (https://arxiv.org/pdf/1409.0473.pdf).\n",
        "    There are three sets of weights introduced W_a, U_a, and V_a\n",
        "     \"\"\"\n",
        "\n",
        "    def __init__(self, **kwargs):\n",
        "        super(AttentionLayer, self).__init__(**kwargs)\n",
        "\n",
        "    def build(self, input_shape):\n",
        "        assert isinstance(input_shape, list)\n",
        "        # Create a trainable weight variable for this layer.\n",
        "\n",
        "        self.W_a = self.add_weight(name='W_a',\n",
        "                                   shape=tf.TensorShape((input_shape[0][2], input_shape[0][2])),\n",
        "                                   initializer='uniform',\n",
        "                                   trainable=True)\n",
        "        self.U_a = self.add_weight(name='U_a',\n",
        "                                   shape=tf.TensorShape((input_shape[1][2], input_shape[0][2])),\n",
        "                                   initializer='uniform',\n",
        "                                   trainable=True)\n",
        "        self.V_a = self.add_weight(name='V_a',\n",
        "                                   shape=tf.TensorShape((input_shape[0][2], 1)),\n",
        "                                   initializer='uniform',\n",
        "                                   trainable=True)\n",
        "\n",
        "        super(AttentionLayer, self).build(input_shape)  # Be sure to call this at the end\n",
        "\n",
        "    def call(self, inputs, verbose=False):\n",
        "        \"\"\"\n",
        "        inputs: [encoder_output_sequence, decoder_output_sequence]\n",
        "        \"\"\"\n",
        "        assert type(inputs) == list\n",
        "        encoder_out_seq, decoder_out_seq = inputs\n",
        "        if verbose:\n",
        "            print('encoder_out_seq>', encoder_out_seq.shape)\n",
        "            print('decoder_out_seq>', decoder_out_seq.shape)\n",
        "\n",
        "        def energy_step(inputs, states):\n",
        "            \"\"\" Step function for computing energy for a single decoder state \"\"\"\n",
        "\n",
        "            assert_msg = \"States must be a list. However states {} is of type {}\".format(states, type(states))\n",
        "            assert isinstance(states, list) or isinstance(states, tuple), assert_msg\n",
        "\n",
        "            \"\"\" Some parameters required for shaping tensors\"\"\"\n",
        "            en_seq_len, en_hidden = encoder_out_seq.shape[1], encoder_out_seq.shape[2]\n",
        "            de_hidden = inputs.shape[-1]\n",
        "\n",
        "            \"\"\" Computing S.Wa where S=[s0, s1, ..., si]\"\"\"\n",
        "            # <= batch_size*en_seq_len, latent_dim\n",
        "            reshaped_enc_outputs = K.reshape(encoder_out_seq, (-1, en_hidden))\n",
        "            # <= batch_size*en_seq_len, latent_dim\n",
        "            W_a_dot_s = K.reshape(K.dot(reshaped_enc_outputs, self.W_a), (-1, en_seq_len, en_hidden))\n",
        "            if verbose:\n",
        "                print('wa.s>',W_a_dot_s.shape)\n",
        "\n",
        "            \"\"\" Computing hj.Ua \"\"\"\n",
        "            U_a_dot_h = K.expand_dims(K.dot(inputs, self.U_a), 1)  # <= batch_size, 1, latent_dim\n",
        "            if verbose:\n",
        "                print('Ua.h>',U_a_dot_h.shape)\n",
        "\n",
        "            \"\"\" tanh(S.Wa + hj.Ua) \"\"\"\n",
        "            # <= batch_size*en_seq_len, latent_dim\n",
        "            reshaped_Ws_plus_Uh = K.tanh(K.reshape(W_a_dot_s + U_a_dot_h, (-1, en_hidden)))\n",
        "            if verbose:\n",
        "                print('Ws+Uh>', reshaped_Ws_plus_Uh.shape)\n",
        "\n",
        "            \"\"\" softmax(va.tanh(S.Wa + hj.Ua)) \"\"\"\n",
        "            # <= batch_size, en_seq_len\n",
        "            e_i = K.reshape(K.dot(reshaped_Ws_plus_Uh, self.V_a), (-1, en_seq_len))\n",
        "            # <= batch_size, en_seq_len\n",
        "            e_i = K.softmax(e_i)\n",
        "\n",
        "            if verbose:\n",
        "                print('ei>', e_i.shape)\n",
        "\n",
        "            return e_i, [e_i]\n",
        "\n",
        "        def context_step(inputs, states):\n",
        "            \"\"\" Step function for computing ci using ei \"\"\"\n",
        "            # <= batch_size, hidden_size\n",
        "            c_i = K.sum(encoder_out_seq * K.expand_dims(inputs, -1), axis=1)\n",
        "            if verbose:\n",
        "                print('ci>', c_i.shape)\n",
        "            return c_i, [c_i]\n",
        "\n",
        "        def create_inital_state(inputs, hidden_size):\n",
        "            # We are not using initial states, but need to pass something to K.rnn funciton\n",
        "            fake_state = K.zeros_like(inputs)  # <= (batch_size, enc_seq_len, latent_dim\n",
        "            fake_state = K.sum(fake_state, axis=[1, 2])  # <= (batch_size)\n",
        "            fake_state = K.expand_dims(fake_state)  # <= (batch_size, 1)\n",
        "            fake_state = K.tile(fake_state, [1, hidden_size])  # <= (batch_size, latent_dim\n",
        "            return fake_state\n",
        "\n",
        "        fake_state_c = create_inital_state(encoder_out_seq, encoder_out_seq.shape[-1])\n",
        "        fake_state_e = create_inital_state(encoder_out_seq, encoder_out_seq.shape[1])  # <= (batch_size, enc_seq_len, latent_dim\n",
        "\n",
        "        \"\"\" Computing energy outputs \"\"\"\n",
        "        # e_outputs => (batch_size, de_seq_len, en_seq_len)\n",
        "        last_out, e_outputs, _ = K.rnn(\n",
        "            energy_step, decoder_out_seq, [fake_state_e],\n",
        "        )\n",
        "\n",
        "        \"\"\" Computing context vectors \"\"\"\n",
        "        last_out, c_outputs, _ = K.rnn(\n",
        "            context_step, e_outputs, [fake_state_c],\n",
        "        )\n",
        "\n",
        "        return c_outputs, e_outputs\n",
        "\n",
        "    def compute_output_shape(self, input_shape):\n",
        "        \"\"\" Outputs produced by the layer \"\"\"\n",
        "        return [\n",
        "            tf.TensorShape((input_shape[1][0], input_shape[1][1], input_shape[1][2])),\n",
        "            tf.TensorShape((input_shape[1][0], input_shape[1][1], input_shape[0][1]))\n",
        "        ]"
      ],
      "execution_count": null,
      "outputs": []
    },
    {
      "cell_type": "code",
      "metadata": {
        "id": "ulH41_B9dLPp"
      },
      "source": [
        "import numpy as np  \n",
        "import pandas as pd \n",
        "import re           \n",
        "from bs4 import BeautifulSoup \n",
        "from keras.preprocessing.text import Tokenizer \n",
        "from keras.preprocessing.sequence import pad_sequences\n",
        "from nltk.corpus import stopwords   \n",
        "from tensorflow.keras.layers import Input, LSTM, Embedding, Dense, Concatenate, TimeDistributed, Bidirectional\n",
        "from tensorflow.keras.models import Model\n",
        "from tensorflow.keras.callbacks import EarlyStopping\n",
        "import warnings\n",
        "pd.set_option(\"display.max_colwidth\", 200)\n",
        "warnings.filterwarnings(\"ignore\")"
      ],
      "execution_count": null,
      "outputs": []
    },
    {
      "cell_type": "code",
      "metadata": {
        "colab": {
          "base_uri": "https://localhost:8080/",
          "height": 326
        },
        "id": "Qdcft8LzfDfP",
        "outputId": "3b6184dd-adfe-462e-b8ba-f7148816d607"
      },
      "source": [
        "data=df2\n",
        "data"
      ],
      "execution_count": null,
      "outputs": [
        {
          "output_type": "execute_result",
          "data": {
            "text/html": [
              "<div>\n",
              "<style scoped>\n",
              "    .dataframe tbody tr th:only-of-type {\n",
              "        vertical-align: middle;\n",
              "    }\n",
              "\n",
              "    .dataframe tbody tr th {\n",
              "        vertical-align: top;\n",
              "    }\n",
              "\n",
              "    .dataframe thead th {\n",
              "        text-align: right;\n",
              "    }\n",
              "</style>\n",
              "<table border=\"1\" class=\"dataframe\">\n",
              "  <thead>\n",
              "    <tr style=\"text-align: right;\">\n",
              "      <th></th>\n",
              "      <th>Text</th>\n",
              "      <th>Summary</th>\n",
              "    </tr>\n",
              "  </thead>\n",
              "  <tbody>\n",
              "    <tr>\n",
              "      <th>0</th>\n",
              "      <td>['for educational use only'],\"['Adhikrao Bapu Hazare vs The State Of Maharashtra on 25 September', ' 2019']\",[],['Bombay High Court'],\"['Adhikrao Bapu Hazare vs The State Of Maharashtra on 25 Sept...</td>\n",
              "      <td>['Applicant Versus State Maharashtra .. Respondent ... Mr. Kunal N. '],\"[\"\"Mr. L. N. Karde Applicant.Ms. P. N. Dabholkar APP counsel applicant specifcally submitted convincing evidence establishin...</td>\n",
              "    </tr>\n",
              "    <tr>\n",
              "      <th>1</th>\n",
              "      <td>['for educational use only'],\"['Sameer Subhash Vhora vs The State Of Maharashtra on 21 June', ' 2019']\",[],['Bombay High Court'],\"['Sameer Subhash Vhora vs The State Of Maharashtra on 21 June', ' ...</td>\n",
              "      <td>\"['Applicant versus State Maharashtra .... Respondent ....... period 18/02/2013 19/09/2014, present Applicant filed FIR first informant Kupwad Police Station, Miraj, Sangli, sections 406 408 IPC.T...</td>\n",
              "    </tr>\n",
              "    <tr>\n",
              "      <th>2</th>\n",
              "      <td>['for educational use only'],\"['P.Rajendran vs The Principal Secretary on 1 July', ' 2019']\",[],['Madras High Court'],\"['P.Rajendran vs The Principal Secretary on 1 July', ' 2019']\",['1'],['BEFORE...</td>\n",
              "      <td>['(MD) No.11065 2019 P.Rajendran ... Petitioner vs. 1.The Principal Secretary Transport Department Government Tamil '],\"['2\\\\.The writ petitioner employee respondent / Transport Corporation served...</td>\n",
              "    </tr>\n",
              "    <tr>\n",
              "      <th>3</th>\n",
              "      <td>['for educational use only'],\"['A.Balasubramanian vs State Through on 28 January', ' 2019']\",[],['Madras High Court'],\"['A.Balasubramanian vs State Through on 28 January', ' 2019']\",['1'],['BEFORE...</td>\n",
              "      <td>\"['Appellant ', 'Mr.N.Ananthapadmanabhan Respondent ', 'Mr.M.Chandrasekaran Additional Public Prosecutor Appellant ', 'Mr.M.Chandrasekaran Additional Public Prosecutor Respondent ', 'Mr.T.Senthil ...</td>\n",
              "    </tr>\n",
              "  </tbody>\n",
              "</table>\n",
              "</div>"
            ],
            "text/plain": [
              "                                                                                                                                                                                                      Text                                                                                                                                                                                                  Summary\n",
              "0  ['for educational use only'],\"['Adhikrao Bapu Hazare vs The State Of Maharashtra on 25 September', ' 2019']\",[],['Bombay High Court'],\"['Adhikrao Bapu Hazare vs The State Of Maharashtra on 25 Sept...  ['Applicant Versus State Maharashtra .. Respondent ... Mr. Kunal N. '],\"[\"\"Mr. L. N. Karde Applicant.Ms. P. N. Dabholkar APP counsel applicant specifcally submitted convincing evidence establishin...\n",
              "1  ['for educational use only'],\"['Sameer Subhash Vhora vs The State Of Maharashtra on 21 June', ' 2019']\",[],['Bombay High Court'],\"['Sameer Subhash Vhora vs The State Of Maharashtra on 21 June', ' ...  \"['Applicant versus State Maharashtra .... Respondent ....... period 18/02/2013 19/09/2014, present Applicant filed FIR first informant Kupwad Police Station, Miraj, Sangli, sections 406 408 IPC.T...\n",
              "2  ['for educational use only'],\"['P.Rajendran vs The Principal Secretary on 1 July', ' 2019']\",[],['Madras High Court'],\"['P.Rajendran vs The Principal Secretary on 1 July', ' 2019']\",['1'],['BEFORE...  ['(MD) No.11065 2019 P.Rajendran ... Petitioner vs. 1.The Principal Secretary Transport Department Government Tamil '],\"['2\\\\.The writ petitioner employee respondent / Transport Corporation served...\n",
              "3  ['for educational use only'],\"['A.Balasubramanian vs State Through on 28 January', ' 2019']\",[],['Madras High Court'],\"['A.Balasubramanian vs State Through on 28 January', ' 2019']\",['1'],['BEFORE...  \"['Appellant ', 'Mr.N.Ananthapadmanabhan Respondent ', 'Mr.M.Chandrasekaran Additional Public Prosecutor Appellant ', 'Mr.M.Chandrasekaran Additional Public Prosecutor Respondent ', 'Mr.T.Senthil ..."
            ]
          },
          "metadata": {
            "tags": []
          },
          "execution_count": 144
        }
      ]
    },
    {
      "cell_type": "code",
      "metadata": {
        "id": "VnXtO1HcfKVi"
      },
      "source": [
        "contraction_mapping = {\"ain't\": \"is not\", \"aren't\": \"are not\",\"can't\": \"cannot\", \"'cause\": \"because\", \"could've\": \"could have\", \"couldn't\": \"could not\",\n",
        "\n",
        "                           \"didn't\": \"did not\", \"doesn't\": \"does not\", \"don't\": \"do not\", \"hadn't\": \"had not\", \"hasn't\": \"has not\", \"haven't\": \"have not\",\n",
        "\n",
        "                           \"he'd\": \"he would\",\"he'll\": \"he will\", \"he's\": \"he is\", \"how'd\": \"how did\", \"how'd'y\": \"how do you\", \"how'll\": \"how will\", \"how's\": \"how is\",\n",
        "\n",
        "                           \"I'd\": \"I would\", \"I'd've\": \"I would have\", \"I'll\": \"I will\", \"I'll've\": \"I will have\",\"I'm\": \"I am\", \"I've\": \"I have\", \"i'd\": \"i would\",\n",
        "\n",
        "                           \"i'd've\": \"i would have\", \"i'll\": \"i will\",  \"i'll've\": \"i will have\",\"i'm\": \"i am\", \"i've\": \"i have\", \"isn't\": \"is not\", \"it'd\": \"it would\",\n",
        "\n",
        "                           \"it'd've\": \"it would have\", \"it'll\": \"it will\", \"it'll've\": \"it will have\",\"it's\": \"it is\", \"let's\": \"let us\", \"ma'am\": \"madam\",\n",
        "\n",
        "                           \"mayn't\": \"may not\", \"might've\": \"might have\",\"mightn't\": \"might not\",\"mightn't've\": \"might not have\", \"must've\": \"must have\",\n",
        "\n",
        "                           \"mustn't\": \"must not\", \"mustn't've\": \"must not have\", \"needn't\": \"need not\", \"needn't've\": \"need not have\",\"o'clock\": \"of the clock\",\n",
        "\n",
        "                           \"oughtn't\": \"ought not\", \"oughtn't've\": \"ought not have\", \"shan't\": \"shall not\", \"sha'n't\": \"shall not\", \"shan't've\": \"shall not have\",\n",
        "\n",
        "                           \"she'd\": \"she would\", \"she'd've\": \"she would have\", \"she'll\": \"she will\", \"she'll've\": \"she will have\", \"she's\": \"she is\",\n",
        "\n",
        "                           \"should've\": \"should have\", \"shouldn't\": \"should not\", \"shouldn't've\": \"should not have\", \"so've\": \"so have\",\"so's\": \"so as\",\n",
        "\n",
        "                           \"this's\": \"this is\",\"that'd\": \"that would\", \"that'd've\": \"that would have\", \"that's\": \"that is\", \"there'd\": \"there would\",\n",
        "\n",
        "                           \"there'd've\": \"there would have\", \"there's\": \"there is\", \"here's\": \"here is\",\"they'd\": \"they would\", \"they'd've\": \"they would have\",\n",
        "\n",
        "                           \"they'll\": \"they will\", \"they'll've\": \"they will have\", \"they're\": \"they are\", \"they've\": \"they have\", \"to've\": \"to have\",\n",
        "\n",
        "                           \"wasn't\": \"was not\", \"we'd\": \"we would\", \"we'd've\": \"we would have\", \"we'll\": \"we will\", \"we'll've\": \"we will have\", \"we're\": \"we are\",\n",
        "\n",
        "                           \"we've\": \"we have\", \"weren't\": \"were not\", \"what'll\": \"what will\", \"what'll've\": \"what will have\", \"what're\": \"what are\",\n",
        "\n",
        "                           \"what's\": \"what is\", \"what've\": \"what have\", \"when's\": \"when is\", \"when've\": \"when have\", \"where'd\": \"where did\", \"where's\": \"where is\",\n",
        "\n",
        "                           \"where've\": \"where have\", \"who'll\": \"who will\", \"who'll've\": \"who will have\", \"who's\": \"who is\", \"who've\": \"who have\",\n",
        "\n",
        "                           \"why's\": \"why is\", \"why've\": \"why have\", \"will've\": \"will have\", \"won't\": \"will not\", \"won't've\": \"will not have\",\n",
        "\n",
        "                           \"would've\": \"would have\", \"wouldn't\": \"would not\", \"wouldn't've\": \"would not have\", \"y'all\": \"you all\",\n",
        "\n",
        "                           \"y'all'd\": \"you all would\",\"y'all'd've\": \"you all would have\",\"y'all're\": \"you all are\",\"y'all've\": \"you all have\",\n",
        "\n",
        "                           \"you'd\": \"you would\", \"you'd've\": \"you would have\", \"you'll\": \"you will\", \"you'll've\": \"you will have\",\n",
        "\n",
        "                           \"you're\": \"you are\", \"you've\": \"you have\"}"
      ],
      "execution_count": null,
      "outputs": []
    },
    {
      "cell_type": "code",
      "metadata": {
        "colab": {
          "base_uri": "https://localhost:8080/"
        },
        "id": "NXHy0he6fW_H",
        "outputId": "132fa9c9-6507-45e5-d3f2-98285bcd4bb3"
      },
      "source": [
        "import nltk\n",
        "nltk.download('stopwords')"
      ],
      "execution_count": null,
      "outputs": [
        {
          "output_type": "stream",
          "text": [
            "[nltk_data] Downloading package stopwords to /root/nltk_data...\n",
            "[nltk_data]   Package stopwords is already up-to-date!\n"
          ],
          "name": "stdout"
        },
        {
          "output_type": "execute_result",
          "data": {
            "text/plain": [
              "True"
            ]
          },
          "metadata": {
            "tags": []
          },
          "execution_count": 146
        }
      ]
    },
    {
      "cell_type": "code",
      "metadata": {
        "id": "9tNuzXQ6fPh9"
      },
      "source": [
        "stop_words = set(stopwords.words('english')) \n",
        "def text_cleaner(text):\n",
        "    newString = text.lower()\n",
        "    newString = BeautifulSoup(newString, \"lxml\").text\n",
        "    newString = re.sub(r'\\([^)]*\\)', '', newString)\n",
        "    newString = re.sub('\"','', newString)\n",
        "    newString = ' '.join([contraction_mapping[t] if t in contraction_mapping else t for t in newString.split(\" \")])    \n",
        "    newString = re.sub(r\"'s\\b\",\"\",newString)\n",
        "    newString = re.sub(\"[^a-zA-Z]\", \" \", newString) \n",
        "    tokens = [w for w in newString.split() if not w in stop_words]\n",
        "    long_words=[]\n",
        "    for i in tokens:\n",
        "        if len(i)>=3:                  #removing short word\n",
        "            long_words.append(i)   \n",
        "    return (\" \".join(long_words)).strip()\n",
        "\n",
        "cleaned_text = []\n",
        "for t in data['Text']:\n",
        "    cleaned_text.append(text_cleaner(t))"
      ],
      "execution_count": null,
      "outputs": []
    },
    {
      "cell_type": "code",
      "metadata": {
        "id": "amGUCvaRfTRf"
      },
      "source": [
        "def summary_cleaner(text):\n",
        "    newString = re.sub('\"','', text)\n",
        "    newString = ' '.join([contraction_mapping[t] if t in contraction_mapping else t for t in newString.split(\" \")])    \n",
        "    newString = re.sub(r\"'s\\b\",\"\",newString)\n",
        "    newString = re.sub(\"[^a-zA-Z]\", \" \", newString)\n",
        "    newString = newString.lower()\n",
        "    tokens=newString.split()\n",
        "    newString=''\n",
        "    for i in tokens:\n",
        "        if len(i)>1:                                 \n",
        "            newString=newString+i+' '  \n",
        "    return newString\n",
        "\n",
        "#Call the above function\n",
        "cleaned_summary = []\n",
        "for t in data['Summary']:\n",
        "    cleaned_summary.append(summary_cleaner(t))\n",
        "\n",
        "data['cleaned_text']=cleaned_text\n",
        "data['cleaned_summary']=cleaned_summary\n",
        "data['cleaned_summary'].replace('', np.nan, inplace=True)\n",
        "data.dropna(axis=0,inplace=True)"
      ],
      "execution_count": null,
      "outputs": []
    },
    {
      "cell_type": "code",
      "metadata": {
        "id": "mAfpOmVsfx76"
      },
      "source": [
        "data['cleaned_summary'] = data['cleaned_summary'].apply(lambda x : '_START_ '+ x + ' _END_')\n"
      ],
      "execution_count": null,
      "outputs": []
    },
    {
      "cell_type": "code",
      "metadata": {
        "colab": {
          "base_uri": "https://localhost:8080/"
        },
        "id": "raT1c5nuf3Cl",
        "outputId": "bc8d38fd-9762-4dc0-e4fa-8f91f3637694"
      },
      "source": [
        "for i in range(4):\n",
        "    print(\"Review:\",data['cleaned_text'][i])\n",
        "    print(\"Summary:\",data['cleaned_summary'][i])\n",
        "    print(\"\\n\")"
      ],
      "execution_count": null,
      "outputs": [
        {
          "output_type": "stream",
          "text": [
            "Review: educational use adhikrao bapu hazare state maharashtra september bombay high court adhikrao bapu hazare state maharashtra september bench deshmukh appeal doc high court judicature bombay criminal appellate jurisdiction interim application criminal appeal adhikrao bapu hazare applicant versus state maharashtra respondent kunal kamble karde applicant dabholkar app respondent state coram dated deshmukh september application fled suspension sentence bail applicant accused convicted learned special judge acb city civil sessions court greater bombay ofence punishable section prevention corruption act sentenced sufer rigorous imprisonment years pay fne default pay fne sufer sonali patil indian kanoon http indiankanoon org doc cadhikrao bapu hazare state maharashtra september uploaded downloaded appeal doc rigorous imprisonment months learned counsel applicant specifcally submitted convincing evidence establishing applicant involvement present crime muchcless applicant point time demanded bribe contended even case prosecution point demand well alleged conversation applicant complainant convincing acted upon thus contended application allowed learned app submitted evidence complainant established applicant demanded bribe releasing one accused involved theft case ofence investigated applicant working assistant police inspector therefore prayed application rejected appears july applicant posted assistant police inspector mankhurd police station investigating crime registered sonali patil indian kanoon http indiankanoon org doc cadhikrao bapu hazare state maharashtra september uploaded downloaded appeal doc ofence theft one amit jaiswal friend complainant purpose complainant visited police station july time one javir extended threats complainant arrest crime alleged demanded bribe case prosecution day applicant beating complainant police station demanded attempted obtain said amount july complainant meeting applicant police station noon hours demanded complainant interested pay bribe contacted anti corruption bureau office lodged report background case prosecution evidence complainant would reveal arriving police station meet friend amit jaiswal javir extended threats involve crime amit jaiswal arrested demanded however since amount requested grant one day time sonali patil indian kanoon http indiankanoon org doc cadhikrao bapu hazare state maharashtra september uploaded downloaded appeal doc come evidence time applicant extended threats complainant falsely implicate crime demanded protect amount negotiated stated therefore visited office lodged report admittedly prosecution initiated officer name javir though according case complainant initial demand though case prosecution appears alleged demand applicant july july enhanced evidence complainant shamshuddin shaikh demand made one officer name javir thereafter following day demand made applicant negotiated considered evidence aforesaid case prosecution found unfolded amount alleged demanded applicant point incident evidence complainant would reveal attending mankhurd police sonali patil indian kanoon http indiankanoon org doc cadhikrao bapu hazare state maharashtra september uploaded downloaded appeal doc station alongwith independent witness members raiding team met applicant however time scolded complainant directed away police station therefore came back met raiding team officers view matter evidence establishing applicant involvement though learned app contended conversation whatsoever taken place complainant applicant recorded evidence complainant aspect would reveal visited mankhurd police station digital voice recorder one female employee office accompanied scolded applicant directed leave police station except nothing record fact earlier version also apart doubtful case prosecution point demand case demand established prosecution complainant arrived police station lodging report complainant evidence point recording verifcation panchnama way omission admitted fact mentioned report sonali patil indian kanoon http indiankanoon org doc cadhikrao bapu hazare state maharashtra september uploaded downloaded appeal doc though claims stated police view facts aforesaid since appears doubtful evidence record applicant since convicted lessor sentence years application liable allowed hence following order order application allowed applicant shall released bail executing bond one two sureties like amount bail applicant shall mark presence trial court months frst day month pending appeal sonali patil indian kanoon http indiankanoon org doc\n",
            "Summary: _START_ applicant versus state maharashtra respondent mr kunal mr karde applicant ms dabholkar app counsel applicant specifcally submitted convincing evidence establishing applicant involvement present crime muchcless applicant point time demanded time one javir extended threats complainant ia deshmukh ia appeal  _END_\n",
            "\n",
            "\n",
            "Review: educational use sameer subhash vhora state maharashtra june bombay high court sameer subhash vhora state maharashtra june bench kotwal aba odt high court judicature bombay criminal appellate jurisdiction anticipatory bail application sameer subhash vhora applicant versus state maharashtra respondent mundargi senior advocate kuldeep nikam advocate applicant takalkar app state respondent sambhaji nimbalkar marketyard police station pune present coram sarang kotwal date june applicant seeking anticipatory bail connection registered marketyard police station pune sections indian penal code sections information technology act facts present application follows nesarikar aba odt fir lodged one dharmendra paraschand jain chartered accountant savings bank account icici bank bundgarden branch bearing account indian kanoon http indiankanoon org doc csameer subhash vhora state maharashtra june first informant working chartered accountant galaxy transmission pvt ltd period present applicant managing director said company according first informant resigned job informed company take away car laptop belonging company given due payment shares promised present applicant filed fir first informant kupwad police station miraj sangli sections ipc arrested subsequently released bail aba odt first informant filed company petition court original side said company since arbitration clause agreement first informant company said clause invoked arbitration proceedings commenced going proceedings applicant wanted refer certain transactions entered first informant therefore according first informant applicant illegally procured bank transactions statement first informant period respect savings account mentioned earlier fir mentions account statement obtained detective grievance first informant bank statement obtained without permission thereby cheated therefore lodged fir fir lodged ipc information technology act present applicant apprehending arrest connection offence aba odt heard learned senior counsel mundargi applicant takalkar app state mundargi invited attention various documents annexed application indicating previous dispute parties also indicating bank statement question relevant arbitration proceedings invited attention proceedings arbitrator dated particular question nos answers read follows could tell bank accounts operate since march till maintaining account icici bank produce passbook bank account march till date personal information nindian kanoon http indiankanoon org doc csameer subhash vhora state maharashtra june put relieved aba odt nfrom respondent company till date work competitors nthe respondent company therefore disclosing details bank naccount disagree mundargi invited attention notice dated issued advocate company first informant making reference account summary mentioning applicant intended rely summary thus short dispute account statement fact obtained present applicant question arises whether entitled procure without permission first informant without following due process law whether non bailable offence committed present applicant answer questions mundgari made legal submissions first submission mundargi application provisions act shows aba odt offences alleged fir act bailable virtue section act next submission provisions act invoked investigating agency precluded investigating allegations commission offence indian penal code set allegations support submissions mundargi relied judgment hon ble supreme court case sharat babu digumarti govt nct delhi reported air supreme court also relied judgment division bench court case gagan harsh sharma others state maharashtra others reported abr according mundargi judgments lay law offences act applied investigating agency precluded applying offences indian penal code mundargi submitted account statement record maintained bank purpose aba odt show transaction account maintained bank account holder request bank supplies bank statement account holder emphasized bank account statement property bank alone account holder submitted account holder nothing bank statement therefore offence respect bank statement committed account holder mundargi submitted though accepted legal position bank account property account holder held judgment hon ble supreme court case state maharashtra tapas neogy reported supreme court cases however according bank account statement part bank account therefore property account holder submissions learned app aba odt submitted offence clearly made submitted inconsistency provisions applied respect offences act indian penal code case indian kanoon http indiankanoon org doc csameer subhash vhora state maharashtra june therefore judgments relied learned senior counsel application present set facts submitted applicant cooperated investigating agency changing version applicant coming case explain obtained bank statement therefore custodial interrogation necessary considered contentions carefully unable agree mundargi bank account statement part account account holder bankers books evidence act defines bankers books section follows bankers books include ledgers day books cashbooks account books records used aba odt ordinary business bank whether records kept written form stored micro film magnetic tape form mechanical electronic data retrieval mechanism either onsite offsite location including back disaster recovery site thus records used ordinary business bank covered definition section defines certified copy relation record follows certified copy means books bank maintained written form copy entry books together certificate written foot copy true copy entry entry contained one ordinary books bank made usual ordinary course business book still custody bank copy obtained mechanical process ensured accuracy copy certificate effect book copy prepared destroyed aba odt usual course bank business date copy prepared certificate effect certificate dated subscribed principal accountant manager bank name official title consist printouts data stored floppy disc tape electro magnetic data storage device printout entry copy printout together statements certified accordance provisions section printout entry books bank stored micro film magnetic tape form mechanical electronic data retrieval mechanism obtained indian kanoon http indiankanoon org doc csameer subhash vhora state maharashtra june mechanical process ensures accuracy printout copy entry printout contains certificate accordance provision section section provides necessity certificate authorized officer printout entry copy printout referred section taken certificate aba odt required mention safeguards adopted ensure data safe bank statement referred one statute prevention corruption act section thereof reads power inspect bankers books nif information received otherwise police officer reason suspect ncommission offence empowered investigate section nconsiders purpose investigation inquiry offence nnecessary inspect bankers books notwithstanding anything contained nany law time force may inspect bankers books far nthey relate accounts persons suspected committed offence nof person suspect holding money behalf person take cause taken certified copies relevant entries therefrom bank nconcerned shall bound assist police officer exercise powers nunder section aba odt provided power section relation nthe accounts person shall exercised police officer rank nsuperintendent police unless specially authorised behalf police nofficer rank superintendent police provisions indicate beyond doubt account summery statement bank statement part bank account held account holder obtained accordance law mundargi submitted though bank account property account holder however statement bank account property submission cannot accepted bank account statement definitely part bank account therefore property account holder though possession bank mundargi submitted provisions act invoked investigating agency precluded invoking offences indian penal code first judgment relied case aba odt sharat babu digumarti said judgment hon ble apex court posed question paragraph thus indian kanoon http indiankanoon org doc csameer subhash vhora state maharashtra june central issue arises consideration whether appellant nbeen discharged section act could proceeded section nipc elaborate discussion hon ble apex court recorded finding paragraph follows view aforesaid analysis authorities referred hereinabove nare considered opinion high court fallen error though ncharge made section act yet appellant could nbe proceeded section ipc thus case application section act set aside thereafter hon ble supreme court held proceedings section ipc could independently stand sharat babu digumarti case aba odt referred division bench court case gagan sharma mundargi relied judgment contend provisions act invoked offence indian penal code could proceeded facts gagan sharma case show accused case misused software complainant company accused unauthorisedly accessed server complainant company context division bench held section could proceeded offence act applied discussion judgment observed inconsistency provisions two statutes special statute would prevail obviously inconsistency virtue section act provisions act prevail however present case inconsistency manner obtaining bank statement revealed context observations hon ble supreme court case state maharashtra another sayyed hassan sayyed subhan aba odt ors reported air important wherein held act omission constitutes offence two enactments offender may prosecuted punished either enactments shall liable punished twice offence set facts conceivable cases constitute offences two different laws act omission amount constitute offence ipc time offence law core question whether inconsistency offences indian penal code information technology act particular case find inconsistency though case sections well ipc applied entire allegations fir make case commission offence punishable ipc offence theft defined wherein provided aba odt whoever intending take dishonestly moveable property possession person without person consent moves property order taking said commit theft indian kanoon http indiankanoon org doc csameer subhash vhora state maharashtra june bank account already mentioned earlier property account holder money entrusted account holder bank safe custody therefore part bank account removed without consent may fall within definition theft therefore though said section applied investigating agency allegations fir make commission offence also non bailable warrant case statement taken away possession bank offence definitely made view matter applicant committed non bailable offence facts particular case necessary find offence committed aba odt offence alleged serious offence bank statements easily made available third persons affects account holder adversely instances cannot tolerated procuring bank account without permission bank account holder lead disastrous effects affecting account holder adversely therefore lenient view cannot taken matter custodial interrogation necessary necessary find statement obtained applicant find persons involved offence view discussion application merit hence rejected indian kanoon http indiankanoon org doc\n",
            "Summary: _START_ applicant versus state maharashtra respondent period present applicant filed fir first informant kupwad police station miraj sangli sections ipc the first mundargi senior advocate mr kuldeep nikam advocate applicant ms takalkar app state respondent sr sambhaji nimbalkar marketyard police station pune facts present application follows nesarikar aba odt fir lodged one dharmendra paraschand jain he chartered accountant he savings bank account icici bank bundgarden branch bearing account first informant working chartered accountant galaxy transmission present applicant managing director said company according first informant resigned job he informed company that take away car laptop belonging company given due payment shares promised arrested subsequently released bail sarang kotwal kanoon http indiankanoon org doc sameer subhash vhora vs state maharashtra june kanoon http indiankanoon org doc sameer subhash vhora vs state maharashtra june short dispute account statement fact obtained present applicant the question arises whether procure without permission first informant without due process law whether non bailable offence committed present applicant the first submission mr mundargi application provisions act aba odt offences alleged fir act bailable virtue section submission provisions act invoked investigating agency precluded investigating allegations commission offence indian penal code set allegations in submissions mr mundargi relied judgment hon ble supreme court case sharat babu digumarti vs also relied judgment division bench court case gagan sharma others vs state maharashtra reported according judgments law offences act applied investigating agency precluded offences indian penal code mr mundargi submitted though accepted legal bank account property account holder held judgment hon ble supreme court date st june applicant seeking anticipatory bail connection no registered marketyard police station pune sections  _END_\n",
            "\n",
            "\n",
            "Review: educational use rajendran principal secretary july madras high court rajendran principal secretary july madurai bench madras high court dated coram honourable justice subramaniam rajendran petitioner principal secretary transport department government tamil nadu secretariat chennai joint managing director tamil nadu state transport development finance corporation ltd triplicane chennai sugumar joint managing director tamil nadu state transport development finance corporation triplicane chennai respondents prayer writ petition filed article constitution india issuance writ mandamus directing respondent take appropriate disciplinary action respondent deliberate wilful misappropriation revenue transport corporation basis petitioner representation dated within time stipulated court http www judis nic petitioner gokul respondents muthu karuppan additional government pleader indian kanoon http indiankanoon org doc rajendran principal secretary july order relief sought present writ petition direction first respondent take appropriate disciplinary action third respondent deliberate wilful misappropriation revenue respondent transport corporation basis writ petitioner representation dated writ petitioner employee respondent transport corporation served rank senior superintendent completing years service allowed retire service submitted representation competent authorities setting certain grave serious allegations third respondent working joint managing director tamil nadu state transport development finance corporation limited triplicane chennai allegations set representation well affidavit filed support writ petition reveal misappropriations several illegalities irregularities dealing transport corporation funds allegations also stated affidavit http www judis nic court unable neglect allegations set complaint submitted writ petitioner account fact writ petitioner employed senior superintendent respondent transport corporation allegations narrated complaint prompted court consider writ petition hand limited purpose directing competent authorities conduct enquiry undoubtedly complaint contains certain allegations however nature allegations seems serious already brought notice higher officials circumstances higher officials ought conducted enquiry investigation purpose culling truth behind allegations ascertaining genuinity allegations raised complaint statutory obligation part competent authorities ensure enquiry conducted respect serious allegations authorities competent commence discrete enquiry ascertain truthfulness contentions contrarily serious allegations raised erstwhile employee transport corporation cadre senior superintendent never allowed buried keeping complaint pending years together attitude construed favoritism part competent authorities http www judis nic allegations raised event conducting fair free enquiry trust confidence administration transport corporations shakened thus conducting enquiry serious allegations provide ground draw factual inference higher officials also attempting bury complaint situation affect efficiency public administration present day context corruption menace undoubtedly corruption greatest enemy constitutional principles corruption anti developmental element public domain widespread allegations corruption spoken towards transport corporations across state tamil nadu interestingly transport corporations state tamil nadu running financial loss undoubtedly transport corporations providing services indian kanoon http indiankanoon org doc rajendran principal secretary july remote villages state however one easily understand even villages travelling habits considerably increased cities urban areas buses overloaded large number passengers travelling day day per contra private players transport services earning huge profit day day improving number omni buses services circumstances citizen logically think reason transport corporations sustaining heavy monetary loss http www judis nic every financial year loss account shown transport corporations competent authorities transport corporations declaring analyzing reasons financial loss however issues relevant neither addressed solved high time government tamil nadu conduct investigation enquiry large scale allegations misappropriation funds theft articles corruption misuse corporation funds etc including activities higher officials transport corporations win public confidence matter administering transport corporations across state immediate actions imminent warranted regular enquiries inspections conducted independent agency affairs transport corporations brought notice court large number employees attached various politically associated unions job receiving salary contended learned counsel even madurai alone employees transport corporation receiving salary allowances without even performing job attached post situations viewed seriously stringent actions initiated persons committing misconduct misappropriation http www judis nic funds theft articles corruption etc event accelerating inspections enquiries state failing duty maintain efficient effective public administration enshrined constitution india swift actions regard alone provide improvement system delay every aspect dilute issue thus first respondent duty bound initiate steps regard decent salary allowances perquisites paid employees higher officials transport corporations monetary benefits officials comparatively competitive private transporters able extract better work paying lesser salary however paying higher salary taxpayers money transport corporations unable control extract better work purpose earning profit transport corporations course government corporations cannot aimed making profit however transport corporations commercial venture organization also think earning profit certain solemn functions government services however way earning profits way collecting taxes ventures run government state finance maintained purpose providing welfare schemes better services citizen great nation http www judis nic another complaint public domain higher officials transport corporations also mis utilizing funds corporations luxury living indian kanoon http indiankanoon org doc rajendran principal secretary july furnish offices luxurious manner unnecessary expenditures monitored properly government ensure transport corporations earn profit improvement corporations next level considering facts circumstances case court inclined pass following orders respondents directed conduct enquiry allegations set representation submitted writ petitioner initiate actions following procedures contemplated exercise directed done within period six weeks date receipt copy order first respondent directed conduct investigations enquiries order ascertain asset details higher officials working management cadre well spouse http www judis nic dependants reference declarations given service records event finding discrepancy disproportionate wealth otherwise suitable prosecutions disciplinary proceedings initiated following procedures contemplated law exercise done first respondent within period four months date receipt copy order iii first respondent directed issue suitable orders fixing cctv cameras bus stand transport corporation depots administrative offices well working places monitor working pattern well ascertain illegalities irregularities committed places purpose improvising efficiency level administration observations writ petition stands disposed costs consequently connected miscellaneous petition closed index yes internet yes krk http www judis nic principal secretary transport department government tamil nadu secretariat chennai joint managing director tamil nadu state transport development finance corporation ltd triplicane chennai http www judis nic subramaniam krk http www judis nic indian kanoon http indiankanoon org doc\n",
            "Summary: _START_ md no rajendran petitioner vs the principal secretary transport department government tamil the writ petitioner employee respondent transport corporation served rank senior superintendent completing years service allowed retire service complaint contains certain circumstances higher officials ought conducted enquiry investigation purpose culling truth behind allegations ascertaining genuinity allegations raised authorities competent commence discrete enquiry ascertain allegations writ writ respondent transport corporation allegations writ petition transport corporations indian kanoon transport corporations corporations indian kanoon md no statutory obligation part competent authorities ensure  _END_\n",
            "\n",
            "\n",
            "Review: educational use balasubramanian state january madras high court balasubramanian state january madurai bench madras high court dated coram honourable justice velmurugan crl nos crl balasubramanian appellant state inspector police vigilance anti corruption wing trichirapalli crime respondent prayer criminal appeal filed section code criminal procedure set aside order conviction sentence passed learned judge special court trial cases section prevention corruption act trichy dated appellant ananthapadmanabhan respondent chandrasekaran additional public prosecutor crl state represented inspector police vigilance anti corruption wing tiruchirappalli crime http www judis nic appellant karuppaiah indian kanoon http indiankanoon org doc respondent balasubramanian state january prayer criminal appeal filed section code criminal procedure set aside acquittal dated special case file special court trial cases prevention corruption act tiruchirappalli convict respondent accused charged appellant chandrasekaran additional public prosecutor respondent senthil kumar common judgment crl filed set aside order conviction sentence passed learned judge special court trial cases section prevention corruption act trichy dated crl filed set aside acquittal dated special case file special court trial cases prevention corruption act tiruchirappalli convict respondent accused charged http www judis nic case prosecution complainant kandasamy resident thelungupatti village kulithalai taluk taken thogaimalai police station detained time enquired instructed come police station next day accordingly noon defacto complainant went said police station interrogated first accused noon instructed come police station day defacto complainant came police station day interrogated sent home first accused time appellant demanded defacto complainant pay sum bribe registering case defacto complainant replied money threatened first accused saying pay sum bribe next night otherwise hands legs defacto complainant would broken entire family would placed inside http www judis nic defacto complainant met first accused said police station along witness palaniyappan enquired asked four persons come told brought sum demanded defacto complainant told come tomorrow indian kanoon http indiankanoon org doc balasubramanian state january four persons one bring sum defacto complainant met first accused said police station along said palaniyappan confirmed defacto complainant whether came demanded money asked wait time waiting came police station went room appellant defacto complainant went room appellant said official witness met room time sitting opposite first accused appellant reiterated earlier demand directed defacto complainant hand said amount directed defacto complainant handed said amount second accused accepted http www judis nic behalf hence appellant committed offence punishable sections prevention corruption act appellant committed offence punishable section prevention corruption act order prove case prosecution side prosecution witness examined documents marked material objects exhibited completing prosecution evidence incriminating circumstances culled prosecution witnesses put accused denied false side defence oral documentary evidence produced completing trial hearing arguments considering matter learned special judge convicted acquitted judgment filed appeal court crl prosecution filed appeal crl acquittal learned counsel appellant crl would submit demand proved http www judis nic case appellant interrogated defacto complainant witnesses also persons connection theft motor pump set said demanded accepted bribe defacto complainant dispute first accused interrogated connection theft case stated prosecution learned counsel would submit completion trap officials obtained statement accused violation rule vigilance manual fatal case prosecution clearly stated engaged received amount professional fee also admitted present police station stated appellant demanded accepted money even demanded accepted money asked persons bring therefore learned special judge indian kanoon http indiankanoon org doc balasubramanian state january failed appreciate evidence also given finding demanded accepted http www judis nic money presence trap laying officer recovered money instructions received money absolutely evidence show received money received money professional fee engaged warrants interference court learned counsel appellant crl would submit met appellant along thogaimalai police station first accused said reiterated earlier demand instructed hand bribe second accused said received accepted accused disputed demand acceptance bribe money series stated said money received second accused professional fee office hence appellant never demanded money never accepted money sanction authority without applying mind accorded sanction learned counsel respondent crl would submit respondent engaged one http www judis nic thangavel counsel appear police station counsel came office received money professional fee nothing wrong appear police station behalf client nothing wrong advocate getting legal fee client case knowledge bribe amount received received amount professional fee engaged counsel therefore trial court rightly appreciated evidence found knowledge bribe amount amount received professional fee bribe demand demand mere recovery tainted money constitute offence prevention corruption act two views possible view favour accused extended accused therefore benefit doubt extended accused mere recovery tainted money constitute offence case prosecution proved demand acceptance http www judis nic evidence clearly show appellants never demanded never accepted money even voluntarily given money refused accept money told bring suspected persons came gave amount stating professional fee learned counsel respondent crl would submit knowledge demanded money given money received professional fee evidence show knowledge bribe money also demanded money instructed receive money evidence prove therefore two views possible view favorable accused extended hence benefit doubt extended indian kanoon http indiankanoon org doc balasubramanian state january accused case since trial court acquitted perversity finding given trial court prosecution prove perversity finding given trial court case perversity http www judis nic finding trial court need interference judgment trial court trial court rightly acquitted prosecution failed prove charge levelled section prevention corruption act warrant interference court learned counsel state would submit order avoid filing false case demanded money bribe instructions received defacto complainant went police station documents would clearly show witnesses appeared police station time demanded money interrogated instructed come police station day defacto complainant went police station met turn asked four persons come replied brought sum demanded told already raid police station due able receive money directly therefore asked http www judis nic wait outside time called asked give money also waiting things noticed demanded money though materials learned special judge accepted case prosecution alone disbelieved case evidence coupled prosecution proved case accused unfortunately learned special judge believed case acquitted warrants interference court heard arguments advanced sides perused records carefully case prosecution defacto complainant taken thogaimalai police station instructed come police station next day accordingly defacto complainant went said police station interrogated appellant instructed come police station threatened first accused saying bring persons electric motor theft case sum bribe within next day http www judis nic since willing give bribe money approached vigilance anti corruption office met file complaint thereafter received complaint registered case summoned independent witnesses introduced conducted pre trap demonstration proceedings coated phynopthalin powder money meant giving prepared entrustment mahazar also noted serial numbers tainted money subsequently destroying indian kanoon http indiankanoon org doc balasubramanian state january phinopthalin test solution washed hands asked proceed police station working police station defacto complainant met appellant enquired defacto complainant asked four suspected persons electric motor theft case come said aware persons instructed come next day along others sum http www judis nic defacto complainant met said police station along independent witness confirmed defacto complainant whether came money asked wait time waiting came police station went room appellant defacto complainant went room appellant said official witness met room time sitting opposite first accused appellant reiterated earlier demand directed defacto complainant hand said amount directed defacto complainant handed said amount second accused accepted behalf first accused thereafter came office showed pre arranged signals trap laying officer thereafter identified introduced trap laying officer conducted phenolpthalien test proved positive thereafter tainted money recovered recovery magazar prepared matter placed investigating officer http www judis nic reading evidence defacto complainant narrated events perusal records clearly show complaint received theft electric motor therefore suspected many persons respondent police deposed since willing give money bribe filed complaint subsequently registering case respondent police conducted pre trap demonstration proceedings thereafter defacto complainant told come police station next day four suspected persons one bring sum reported trap laying officer also instructed interested would come next day day also came approached trap laying officer completing procedural formalities asked police station working instruction given demanded money hand money http www judis nic presence indian kanoon http indiankanoon org doc balasubramanian state january thereafter entered police station asked suspected persons told aware concerned persons told wait time outside police station recently raid police station due want receive bribe money directly therefore waiting outside police station thereafter reaching police station went sat opposite minutes called asked hand money showing hand stated would get later accordingly also handed tainted money also received kept reading entire evidence never engaged counsel case also case therefore relationship counsel client though stated demanded money accepted money recovery made time bribe money transferred police station presence evidence prosecution http www judis nic clearly proved case demanded money wanted receive bribe money suspected persons also alleged suspected electric motor theft case since persons come receive money told persons come sum bribe would register case name enquiry called persons demanded money registering case evidence seen neither friend working office trap laying team independent witness clearly stated went along demanded money asked whether brought money told come next day bring suspected persons also demanded money time ascertained whether brought bribe money gave money told since raid police station recent past want receive money directly asked wait time reaching office http www judis nic sitting opposite minutes later called inside office time reiterated demand ascertained whether brought money per direction waiting outside police station subsequently received money disputed clearly stated demanded money registering false case engaged counsel either said electric motor theft case case though received money behalf demanded bribe money order avoid complication received tainted money money received evidence clear told showing hand towards sitting opposite give would receive circumstances reading entire evidence showing pre arranged signals trap laying team entered police station also conducted indian kanoon http indiankanoon org doc balasubramanian state january phynopthalin test result also positive therefore clear received money http www judis nic learned counsel would submit neither arrested signature obtained mahazar shows received money professional fee since arrested said day signature obtained magazars shows committed offence alleged prosecution reading suggestion put handed money engaged taken stand received money professional fee bribe money evidence clearly shows demanded money received money bribe money professional fee engaged counsel point time said theft case also cases absence materials show engaged counsel defence taken acceptable conjoint reading materials placed court entire evidence witnesses http www judis nic defence asked stand counsel defending case since also suspected persons within jurisdiction documentary evidence show engaged counsel said theft case also cases pending police station working circumstances perversity appreciation evidence prosecution wrongly acquitted reading entire materials placed court considering arguments advanced learned counsel either side absolutely quarrel legal proposition referred judgments case hand reading entire materials especially recovered police station evidence clearly show taken police station enquiry theft case time demanded money also accepted therefore committed offence engaged counsel said theft case also cases therefore defence taken accused believable defence taken afterthought order escape clutch http www judis nic law made false defence without substance mere taking bald defence without material acceptable circumstances court finds committed offence reading entire materials especially witnesses prosecution proved case beyond reasonable doubt learned counsel accused would submit statement recorded accused soon completion trap violated rule vigilance manual indian kanoon http indiankanoon org doc balasubramanian state january vigilance manual guideline directory mandatory mere non recording statement per rules manual vitiating case prosecution prosecution evidence clearly shows demanded money initially thereafter received bribe therefore violation rule rule vigilance manual vitiate case regarding non application mind sanction authority concerned even though stated evidence perused statement accused sole ground acquit accused http www judis nic sanction authority gone entire materials accorded sanction reading sanction order evidence shows applied mind according sanction therefore nothing wrong sanction accorded demand proved acceptance also proved though manner known law prosecution tainted money also recovered stated received money professional fee proved substitutive materials engaged denied engagement therefore section act apply case doubt said legal presumption rebuttable accused rebut presumption recovered money bribe money reading entire evidence court appreciated entire materials toto reading entire materials placed court prosecution proved case cogent evidence filing false case demanded money http www judis nic time occurrence since frequent raid police station order escape clutches law received money therefore confirmed defacto complainant whether brought money asked wait time waiting came police station went room sitting opposite facto complainant went room said official witness met room time sitting opposite first accused reiterated earlier demand directed facto complainant hand said amount directed facto complainant handed said amount second accused accepted behalf first accused kept money pocket evidence show engaged counsel said theft case also case pending said police station explanation offered accused neither reasonable satisfactory fact received money police station instructed sitting opposite absence reasonable explanation http www judis nic tainted money came possession would presumption accepted bribe section prevention corruption act attracted indian kanoon http indiankanoon org doc balasubramanian state january hence defence taken acceptable submission made learned counsel also acceptable therefore defence taken accused proved manner known law rejected committed offence punishable section prevention corruption act circumstances court finds committed offence perversity finding perversity finding view order passed learned judge special court trial cases section prevention corruption act trichy dated hereby confirmed crl dismissed order dated passed special case file special http www judis nic court trial cases prevention corruption act tiruchirappalli hereby set aside crl filed state hereby allowed respondent crl directed appear court question sentence court directed respondent crl ano appear court today asking question sentence since court found respondent crl ano guilty reversing judgment trial court respondent appear court today learned counsel stated mother hospitalised take care also filed affidavit prayed dispensation appearance court placed reliance judgment dagdu others state maharastra reported scc stating accused need http www judis nic appear court circumstances warrant court already given sufficient time opportunity accused upto utilise view submission made learned counsel affidavit filed judgment cited supra appearance dispensed absence court sentences respondent crlano undergo one year rigorous imprisonment pay fine default undergo three months rigorous imprisonment committed offence section prevention corruption act appellant police directed secure forthwith order undergo sentence imposed index yes indian kanoon http indiankanoon org doc balasubramanian state january internet yes dsk note registry shall receive fine amount http www judis nic special judge special court trial cases act trichy inspector police vigilance anti corruption wing tiruchirappalli additional public prosecutor madurai bench madras high court madurai record keeper section madurai bench madras high court madurai http www judis nic velmurugan dsk crl nos http www judis nic indian kanoon http indiankanoon org doc\n",
            "Summary: _START_ appellant mr ananthapadmanabhan respondent mr chandrasekaran additional public prosecutor appellant mr chandrasekaran additional public prosecutor respondent mr senthil kumar common judgment defacto complainant came police station day interrogated sent home first accused time appellant demanded defacto complainant pay sum rs bribe registering defacto complainant went said police station he interrogated first accused noon instructed come police station replied money then threatened first accused saying pay sum rs bribe next hands defacto complainant would entire would placed inside http www judis nic in on defacto complainant met first accused said police station along witness palaniyappan he enquired asked four persons come told brought sum demanded defacto complainant met first accused said police station along said confirmed defacto complainant whether came demanded money asked wait time sitting opposite first completing prosecution evidence circumstances prosecution witnesses put accused denied false on side documentary evidence produced after completing arguments considering learned special judge acquitted asked persons bring received money sanction authority without mind accorded sanction the learned counsel respondent counsel came office received money professional fee there nothing wrong appear police station behalf client nothing wrong legal fee md crl md appellant state corruption defacto complainant come indian kanoon vs state persons one sum learned special indian kanoon vs state evidence also demanded accepted http www judis nic in money money evidence show received money received money evidence show bribe money also demanded money receive evidence prove indian kanoon vs state http www judis nic in trial court trial court trial court prosecution prove section prevention corruption act learned special case indian kanoon vs state asked police asked police demanded hand money http www judis nic in indian kanoon vs state evidence pre police station also indian kanoon vs state also also evidence show counsel said case also police court learned counsel court prosecution case kanoon vs state prosecution case evidence case evidence show counsel said case also said police accused received money police station http www judis nic in money would accepted bribe section prevention corruption act kanoon vs state learned counsel also court court court respondent crl court court respondent crl trial court respondent court vs state accused http www judis nic in court court time http www judis nic in indian kanoon crime no respondent prayer criminal appeal filed section code criminal procedure set aside order conviction sentence passed learned judge special court trial cases section prevention corruption act trichy no  _END_\n",
            "\n",
            "\n"
          ],
          "name": "stdout"
        }
      ]
    },
    {
      "cell_type": "code",
      "metadata": {
        "colab": {
          "base_uri": "https://localhost:8080/"
        },
        "id": "Ds78B6vWf5Rf",
        "outputId": "85ca04a6-637a-458d-8081-77c814963968"
      },
      "source": [
        "import matplotlib.pyplot as plt\n",
        "text_word_count = []\n",
        "summary_word_count = []\n",
        "\n",
        "# populate the lists with sentence lengths\n",
        "for i in data['cleaned_text']:\n",
        "      text_word_count.append(len(i.split()))\n",
        "\n",
        "for i in data['cleaned_summary']:\n",
        "      summary_word_count.append(len(i.split()))\n",
        "\n",
        "length_df = pd.DataFrame({'text':text_word_count, 'summary':summary_word_count})\n",
        "length_df.hist(bins = 30)\n",
        "plt.show()"
      ],
      "execution_count": null,
      "outputs": [
        {
          "output_type": "display_data",
          "data": {
            "image/png": "[encoded data removed]",
            "text/plain": [
              "<Figure size 432x288 with 2 Axes>"
            ]
          },
          "metadata": {
            "tags": [],
            "needs_background": "light"
          }
        }
      ]
    },
    {
      "cell_type": "code",
      "metadata": {
        "id": "p1xzeOpJf9df"
      },
      "source": [
        "max_len_text=3000 \n",
        "max_len_summary=400"
      ],
      "execution_count": null,
      "outputs": []
    },
    {
      "cell_type": "code",
      "metadata": {
        "id": "kdFoEVlhgKHj"
      },
      "source": [
        "from sklearn.model_selection import train_test_split\n",
        "x_tr,x_val,y_tr,y_val=train_test_split(data['cleaned_text'],data['cleaned_summary'],test_size=0.1,random_state=0,shuffle=True) \n"
      ],
      "execution_count": null,
      "outputs": []
    },
    {
      "cell_type": "code",
      "metadata": {
        "id": "mxW_8QHZgM5x"
      },
      "source": [
        "#prepare a tokenizer for reviews on training data\n",
        "x_tokenizer = Tokenizer()\n",
        "x_tokenizer.fit_on_texts(list(x_tr))\n",
        "\n",
        "#convert text sequences into integer sequences\n",
        "x_tr    =   x_tokenizer.texts_to_sequences(x_tr) \n",
        "x_val   =   x_tokenizer.texts_to_sequences(x_val)\n",
        "\n",
        "#padding zero upto maximum length\n",
        "x_tr    =   pad_sequences(x_tr,  maxlen=max_len_text, padding='post') \n",
        "x_val   =   pad_sequences(x_val, maxlen=max_len_text, padding='post')\n",
        "\n",
        "x_voc_size   =  len(x_tokenizer.word_index) +1\n"
      ],
      "execution_count": null,
      "outputs": []
    },
    {
      "cell_type": "code",
      "metadata": {
        "id": "RR8w0Av9gO7Z"
      },
      "source": [
        "#preparing a tokenizer for summary on training data \n",
        "y_tokenizer = Tokenizer()\n",
        "y_tokenizer.fit_on_texts(list(y_tr))\n",
        "\n",
        "#convert summary sequences into integer sequences\n",
        "y_tr    =   y_tokenizer.texts_to_sequences(y_tr) \n",
        "y_val   =   y_tokenizer.texts_to_sequences(y_val) \n",
        "\n",
        "#padding zero upto maximum length\n",
        "y_tr    =   pad_sequences(y_tr, maxlen=max_len_summary, padding='post')\n",
        "y_val   =   pad_sequences(y_val, maxlen=max_len_summary, padding='post')\n",
        "\n",
        "y_voc_size  =   len(y_tokenizer.word_index) +1"
      ],
      "execution_count": null,
      "outputs": []
    },
    {
      "cell_type": "code",
      "metadata": {
        "colab": {
          "base_uri": "https://localhost:8080/"
        },
        "id": "Wq91D3-NgRCb",
        "outputId": "799f06d4-254c-44d0-f979-74b84b97d3b9"
      },
      "source": [
        "from keras import backend as K \n",
        "K.clear_session() \n",
        "latent_dim = 500 \n",
        "\n",
        "# Encoder \n",
        "encoder_inputs = Input(shape=(max_len_text,)) \n",
        "enc_emb = Embedding(x_voc_size, latent_dim,trainable=True)(encoder_inputs) \n",
        "\n",
        "#LSTM 1 \n",
        "encoder_lstm1 = LSTM(latent_dim,return_sequences=True,return_state=True) \n",
        "encoder_output1, state_h1, state_c1 = encoder_lstm1(enc_emb) \n",
        "\n",
        "#LSTM 2 \n",
        "encoder_lstm2 = LSTM(latent_dim,return_sequences=True,return_state=True) \n",
        "encoder_output2, state_h2, state_c2 = encoder_lstm2(encoder_output1) \n",
        "\n",
        "#LSTM 3 \n",
        "encoder_lstm3=LSTM(latent_dim, return_state=True, return_sequences=True) \n",
        "encoder_outputs, state_h, state_c= encoder_lstm3(encoder_output2) \n",
        "\n",
        "# Set up the decoder. \n",
        "decoder_inputs = Input(shape=(None,)) \n",
        "dec_emb_layer = Embedding(y_voc_size, latent_dim,trainable=True) \n",
        "dec_emb = dec_emb_layer(decoder_inputs) \n",
        "\n",
        "#LSTM using encoder_states as initial state\n",
        "decoder_lstm = LSTM(latent_dim, return_sequences=True, return_state=True) \n",
        "decoder_outputs,decoder_fwd_state, decoder_back_state = decoder_lstm(dec_emb,initial_state=[state_h, state_c]) \n",
        "\n",
        "#Attention Layer\n",
        "attn_layer = AttentionLayer(name='attention_layer')\n",
        "attn_out, attn_states = attn_layer([encoder_outputs, decoder_outputs]) \n",
        "\n",
        "# Concat attention output and decoder LSTM output \n",
        "decoder_concat_input = Concatenate(axis=-1, name='concat_layer')([decoder_outputs, attn_out])\n",
        "\n",
        "#Dense layer\n",
        "decoder_dense = TimeDistributed(Dense(y_voc_size, activation='softmax')) \n",
        "decoder_outputs = decoder_dense(decoder_concat_input) \n",
        "\n",
        "# Define the model\n",
        "model = Model([encoder_inputs, decoder_inputs], decoder_outputs) \n",
        "model.summary()"
      ],
      "execution_count": null,
      "outputs": [
        {
          "output_type": "stream",
          "text": [
            "Model: \"model\"\n",
            "__________________________________________________________________________________________________\n",
            "Layer (type)                    Output Shape         Param #     Connected to                     \n",
            "==================================================================================================\n",
            "input_1 (InputLayer)            [(None, 3000)]       0                                            \n",
            "__________________________________________________________________________________________________\n",
            "embedding (Embedding)           (None, 3000, 500)    518000      input_1[0][0]                    \n",
            "__________________________________________________________________________________________________\n",
            "lstm (LSTM)                     [(None, 3000, 500),  2002000     embedding[0][0]                  \n",
            "__________________________________________________________________________________________________\n",
            "input_2 (InputLayer)            [(None, None)]       0                                            \n",
            "__________________________________________________________________________________________________\n",
            "lstm_1 (LSTM)                   [(None, 3000, 500),  2002000     lstm[0][0]                       \n",
            "__________________________________________________________________________________________________\n",
            "embedding_1 (Embedding)         (None, None, 500)    145500      input_2[0][0]                    \n",
            "__________________________________________________________________________________________________\n",
            "lstm_2 (LSTM)                   [(None, 3000, 500),  2002000     lstm_1[0][0]                     \n",
            "__________________________________________________________________________________________________\n",
            "lstm_3 (LSTM)                   [(None, None, 500),  2002000     embedding_1[0][0]                \n",
            "                                                                 lstm_2[0][1]                     \n",
            "                                                                 lstm_2[0][2]                     \n",
            "__________________________________________________________________________________________________\n",
            "attention_layer (AttentionLayer ((None, None, 500),  500500      lstm_2[0][0]                     \n",
            "                                                                 lstm_3[0][0]                     \n",
            "__________________________________________________________________________________________________\n",
            "concat_layer (Concatenate)      (None, None, 1000)   0           lstm_3[0][0]                     \n",
            "                                                                 attention_layer[0][0]            \n",
            "__________________________________________________________________________________________________\n",
            "time_distributed (TimeDistribut (None, None, 291)    291291      concat_layer[0][0]               \n",
            "==================================================================================================\n",
            "Total params: 9,463,291\n",
            "Trainable params: 9,463,291\n",
            "Non-trainable params: 0\n",
            "__________________________________________________________________________________________________\n"
          ],
          "name": "stdout"
        }
      ]
    },
    {
      "cell_type": "code",
      "metadata": {
        "id": "Fbo8ZujngVOs"
      },
      "source": [
        "model.compile(optimizer='rmsprop', loss='sparse_categorical_crossentropy')\n"
      ],
      "execution_count": null,
      "outputs": []
    },
    {
      "cell_type": "code",
      "metadata": {
        "id": "UNy4neN3g43N"
      },
      "source": [
        "es = EarlyStopping(monitor='val_loss', mode='min', verbose=1)\n"
      ],
      "execution_count": null,
      "outputs": []
    },
    {
      "cell_type": "code",
      "metadata": {
        "colab": {
          "base_uri": "https://localhost:8080/"
        },
        "id": "AWDszH72g7wE",
        "outputId": "c78f7c21-b5c7-4491-8c74-93ce0090645a"
      },
      "source": [
        "history=model.fit([x_tr,y_tr[:,:-1]], y_tr.reshape(y_tr.shape[0],y_tr.shape[1], 1)[:,1:] ,epochs=50,callbacks=[es],batch_size=64, validation_data=([x_val,y_val[:,:-1]], y_val.reshape(y_val.shape[0],y_val.shape[1], 1)[:,1:]))\n"
      ],
      "execution_count": null,
      "outputs": [
        {
          "output_type": "stream",
          "text": [
            "Epoch 1/50\n",
            "1/1 [==============================] - 202s 202s/step - loss: 5.6837 - val_loss: 4.1213\n",
            "Epoch 2/50\n",
            "1/1 [==============================] - 189s 189s/step - loss: 5.1444 - val_loss: 0.6445\n",
            "Epoch 3/50\n",
            "1/1 [==============================] - 196s 196s/step - loss: 9.9564 - val_loss: 0.9304\n",
            "Epoch 00003: early stopping\n"
          ],
          "name": "stdout"
        }
      ]
    },
    {
      "cell_type": "code",
      "metadata": {
        "colab": {
          "base_uri": "https://localhost:8080/"
        },
        "id": "8YNdPIunhaR2",
        "outputId": "3373fa89-04c1-401f-9de8-0a999decbbff"
      },
      "source": [
        "from matplotlib import pyplot \n",
        "pyplot.plot(history.history['loss'], label='train') \n",
        "pyplot.plot(history.history['val_loss'], label='test') \n",
        "pyplot.legend() \n",
        "pyplot.show()"
      ],
      "execution_count": null,
      "outputs": [
        {
          "output_type": "display_data",
          "data": {
            "image/png": "[encoded data removed]",
            "text/plain": [
              "<Figure size 432x288 with 1 Axes>"
            ]
          },
          "metadata": {
            "tags": [],
            "needs_background": "light"
          }
        }
      ]
    },
    {
      "cell_type": "code",
      "metadata": {
        "id": "ksVj6R2um2_2"
      },
      "source": [
        "reverse_target_word_index=y_tokenizer.index_word \n",
        "reverse_source_word_index=x_tokenizer.index_word \n",
        "target_word_index=y_tokenizer.word_index"
      ],
      "execution_count": null,
      "outputs": []
    },
    {
      "cell_type": "code",
      "metadata": {
        "id": "krUcZor1m-p-"
      },
      "source": [
        "# encoder inference\n",
        "encoder_model = Model(inputs=encoder_inputs,outputs=[encoder_outputs, state_h, state_c])\n",
        "\n",
        "# decoder inference\n",
        "# Below tensors will hold the states of the previous time step\n",
        "decoder_state_input_h = Input(shape=(latent_dim,))\n",
        "decoder_state_input_c = Input(shape=(latent_dim,))\n",
        "decoder_hidden_state_input = Input(shape=(max_len_text,latent_dim))\n",
        "\n",
        "# Get the embeddings of the decoder sequence\n",
        "dec_emb2= dec_emb_layer(decoder_inputs)\n",
        "\n",
        "# To predict the next word in the sequence, set the initial states to the states from the previous time step\n",
        "decoder_outputs2, state_h2, state_c2 = decoder_lstm(dec_emb2, initial_state=[decoder_state_input_h, decoder_state_input_c])\n",
        "\n",
        "#attention inference\n",
        "attn_out_inf, attn_states_inf = attn_layer([decoder_hidden_state_input, decoder_outputs2])\n",
        "decoder_inf_concat = Concatenate(axis=-1, name='concat')([decoder_outputs2, attn_out_inf])\n",
        "\n",
        "# A dense softmax layer to generate prob dist. over the target vocabulary\n",
        "decoder_outputs2 = decoder_dense(decoder_inf_concat)\n",
        "\n",
        "# Final decoder model\n",
        "decoder_model = Model(\n",
        "[decoder_inputs] + [decoder_hidden_state_input,decoder_state_input_h, decoder_state_input_c],\n",
        "[decoder_outputs2] + [state_h2, state_c2])"
      ],
      "execution_count": null,
      "outputs": []
    },
    {
      "cell_type": "code",
      "metadata": {
        "id": "OMeWdC7bnGvo"
      },
      "source": [
        "def decode_sequence(input_seq):\n",
        "    # Encode the input as state vectors.\n",
        "    e_out, e_h, e_c = encoder_model.predict(input_seq)\n",
        "\n",
        "    # Generate empty target sequence of length 1.\n",
        "    target_seq = np.zeros((1,1))\n",
        "\n",
        "    # Chose the 'start' word as the first word of the target sequence\n",
        "    target_seq[0, 0] = target_word_index['start']\n",
        "\n",
        "    stop_condition = False\n",
        "    decoded_sentence = ''\n",
        "    while not stop_condition:\n",
        "        output_tokens, h, c = decoder_model.predict([target_seq] + [e_out, e_h, e_c])\n",
        "\n",
        "        # Sample a token\n",
        "        sampled_token_index = np.argmax(output_tokens[0, -1, :])\n",
        "        sampled_token = reverse_target_word_index[sampled_token_index]\n",
        "\n",
        "        if(sampled_token!='end'):\n",
        "            decoded_sentence += ' '+sampled_token\n",
        "\n",
        "            # Exit condition: either hit max length or find stop word.\n",
        "            if (sampled_token == 'end' or len(decoded_sentence.split()) >= (max_len_summary-1)):\n",
        "                stop_condition = True\n",
        "\n",
        "        # Update the target sequence (of length 1).\n",
        "        target_seq = np.zeros((1,1))\n",
        "        target_seq[0, 0] = sampled_token_index\n",
        "\n",
        "        # Update internal states\n",
        "        e_h, e_c = h, c\n",
        "\n",
        "    return decoded_sentence"
      ],
      "execution_count": null,
      "outputs": []
    },
    {
      "cell_type": "code",
      "metadata": {
        "id": "j-EiyncWnKCq"
      },
      "source": [
        "def seq2summary(input_seq):\n",
        "    newString=''\n",
        "    for i in input_seq:\n",
        "      if((i!=0 and i!=target_word_index['start']) and i!=target_word_index['end']):\n",
        "        newString=newString+reverse_target_word_index[i]+' '\n",
        "    return newString\n",
        "\n",
        "def seq2text(input_seq):\n",
        "    newString=''\n",
        "    for i in input_seq:\n",
        "      if(i!=0):\n",
        "        newString=newString+reverse_source_word_index[i]+' '\n",
        "    return newString"
      ],
      "execution_count": null,
      "outputs": []
    },
    {
      "cell_type": "code",
      "metadata": {
        "colab": {
          "base_uri": "https://localhost:8080/"
        },
        "id": "ubRQ74LgnM2h",
        "outputId": "ed60e51b-38b8-4013-806c-637fc3e69895"
      },
      "source": [
        "for i in range(len(x_val)):\n",
        "  print(\"Review:\",seq2text(x_val[i]))\n",
        "  print(\"Original summary:\",seq2summary(y_val[i]))\n",
        "  print(\"Predicted summary:\",decode_sequence(x_val[i].reshape(1,max_len_text)))\n",
        "  print(\"\\n\")"
      ],
      "execution_count": null,
      "outputs": [
        {
          "output_type": "stream",
          "text": [
            "Review: educational use principal july madras high court principal july madurai bench madras high court dated coram honourable justice principal managing director state ltd managing director state prayer petition filed respondent take respondent dated within time court http www judis nic additional indian kanoon http indiankanoon org doc principal july order present petition direction first respondent take third respondent respondent dated employee respondent rank senior superintendent completing years allowed submitted authorities certain serious allegations third respondent working managing director state allegations set well affidavit filed support petition reveal allegations also stated affidavit http www judis nic court unable allegations set complaint submitted account fact senior superintendent respondent allegations narrated complaint court petition hand purpose authorities enquiry complaint contains certain allegations however allegations serious already brought notice officials circumstances officials conducted enquiry investigation purpose allegations allegations complaint part authorities ensure enquiry conducted respect serious allegations authorities enquiry contentions serious allegations employee senior superintendent never allowed complaint pending years together part authorities http www judis nic allegations enquiry thus enquiry serious allegations ground officials also complaint public present day context corruption corruption corruption anti public allegations corruption towards state state indian kanoon http indiankanoon org doc principal july state however one easily even day day per day day circumstances reason http www judis nic year account authorities however relevant neither high time investigation enquiry allegations theft corruption including officials public matter state conducted independent agency brought notice court various job contended learned counsel even madurai alone without even job initiated persons http www judis nic theft corruption state public alone aspect issue thus first respondent bound officials officials able work however money unable work purpose course cannot making however also certain however way way state maintained purpose http www judis nic another complaint public officials also indian kanoon http indiankanoon org doc principal july manner ensure next considering facts circumstances case court following directed enquiry allegations set submitted following exercise directed within period date copy order first respondent directed order details officials working well http www judis nic reference given records finding otherwise proceedings initiated following law exercise first respondent within period four months date copy order first respondent directed issue stand well working working well committed purpose observations petition petition index yes internet yes http www judis nic principal managing director state ltd http www judis nic http www judis nic indian kanoon http indiankanoon org doc \n",
            "Original summary: md no vs the the respondent senior completing circumstances allegations allegations allegations respondent allegations indian kanoon indian kanoon md no \n",
            "Predicted summary:  maharashtra maharashtra maharashtra maharashtra maharashtra maharashtra the first first first first first the the the the the the the the the the the the the the the the the the the the the the the the the the the the the the the the the the the the the the the the the the the the the the the the the the the the the the the the the the the the the the the the the the the the the the the the the the the the the the the the the the the the the the the the the the the the the the the the the the the the the the the the the the the the the the the the the the the the the the the the the the the the the the the the the the the the the the the the the the the the the the the the the the the the the the the the the the the the the the the the the the the the the the the the the the the the the the the the the the the the the the the the the the the the the the the the the the the the the the the the the the the the the the the the the the the the the the the the the the the the the the the the the the the the the the the the the the the the the the the the the the the the the the the the the the the the the the the the the the the the the the the the the the the the the the the the the the the the the the the the the the the the the the the\n",
            "\n",
            "\n"
          ],
          "name": "stdout"
        }
      ]
    },
    {
      "cell_type": "code",
      "metadata": {
        "id": "I9eD9m2WnPyJ"
      },
      "source": [
        "s=[]\n",
        "for i in range(len(x_val)):\n",
        "  s.append(decode_sequence(x_val[i].reshape(1,max_len_text)))"
      ],
      "execution_count": null,
      "outputs": []
    },
    {
      "cell_type": "code",
      "metadata": {
        "id": "hbNKgcfAofq7"
      },
      "source": [
        "s"
      ],
      "execution_count": null,
      "outputs": []
    },
    {
      "cell_type": "code",
      "metadata": {
        "id": "bpQXr14-qgUS"
      },
      "source": [
        ""
      ],
      "execution_count": null,
      "outputs": []
    }
  ]
}